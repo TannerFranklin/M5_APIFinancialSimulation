{
 "cells": [
  {
   "cell_type": "markdown",
   "metadata": {},
   "source": [
    "# Financial Planning with APIs and Simulations\n",
    "\n",
    "In this Challenge, you’ll create two financial analysis tools by using a single Jupyter notebook:\n",
    "\n",
    "Part 1: A financial planner for emergencies. The members will be able to use this tool to visualize their current savings. The members can then determine if they have enough reserves for an emergency fund.\n",
    "\n",
    "Part 2: A financial planner for retirement. This tool will forecast the performance of their retirement portfolio in 30 years. To do this, the tool will make an Alpaca API call via the Alpaca SDK to get historical price data for use in Monte Carlo simulations.\n",
    "\n",
    "You’ll use the information from the Monte Carlo simulation to answer questions about the portfolio in your Jupyter notebook.\n",
    "\n"
   ]
  },
  {
   "cell_type": "code",
   "execution_count": 1,
   "metadata": {},
   "outputs": [],
   "source": [
    "# Import the required libraries and dependencies\n",
    "import os\n",
    "import requests\n",
    "import json\n",
    "import pandas as pd\n",
    "from dotenv import load_dotenv\n",
    "import alpaca_trade_api as tradeapi\n",
    "from MCForecastTools import MCSimulation\n",
    "\n",
    "%matplotlib inline"
   ]
  },
  {
   "cell_type": "code",
   "execution_count": 2,
   "metadata": {},
   "outputs": [
    {
     "name": "stderr",
     "output_type": "stream",
     "text": [
      "Python-dotenv could not parse statement starting at line 1\n"
     ]
    },
    {
     "data": {
      "text/plain": [
       "True"
      ]
     },
     "execution_count": 2,
     "metadata": {},
     "output_type": "execute_result"
    }
   ],
   "source": [
    "# Load the environment variables from the .env file\n",
    "#by calling the load_dotenv function\n",
    "load_dotenv()"
   ]
  },
  {
   "cell_type": "markdown",
   "metadata": {},
   "source": [
    "## Part 1: Create a Financial Planner for Emergencies"
   ]
  },
  {
   "cell_type": "markdown",
   "metadata": {},
   "source": [
    "### Evaluate the Cryptocurrency Wallet by Using the Requests Library\n",
    "\n",
    "In this section, you’ll determine the current value of a member’s cryptocurrency wallet. You’ll collect the current prices for the Bitcoin and Ethereum cryptocurrencies by using the Python Requests library. For the prototype, you’ll assume that the member holds the 1.2 Bitcoins (BTC) and 5.3 Ethereum coins (ETH). To do all this, complete the following steps:\n",
    "\n",
    "1. Create a variable named `monthly_income`, and set its value to `12000`.\n",
    "\n",
    "2. Use the Requests library to get the current price (in US dollars) of Bitcoin (BTC) and Ethereum (ETH) by using the API endpoints that the starter code supplies.\n",
    "\n",
    "3. Navigate the JSON response object to access the current price of each coin, and store each in a variable.\n",
    "\n",
    "    > **Hint** Note the specific identifier for each cryptocurrency in the API JSON response. The Bitcoin identifier is `1`, and the Ethereum identifier is `1027`.\n",
    "\n",
    "4. Calculate the value, in US dollars, of the current amount of each cryptocurrency and of the entire cryptocurrency wallet.\n",
    "\n"
   ]
  },
  {
   "cell_type": "code",
   "execution_count": 3,
   "metadata": {},
   "outputs": [],
   "source": [
    "# The current number of coins for each cryptocurrency asset held in the portfolio.\n",
    "btc_coins = 1.2\n",
    "eth_coins = 5.3"
   ]
  },
  {
   "cell_type": "markdown",
   "metadata": {},
   "source": [
    "#### Step 1: Create a variable named `monthly_income`, and set its value to `12000`."
   ]
  },
  {
   "cell_type": "code",
   "execution_count": 4,
   "metadata": {},
   "outputs": [],
   "source": [
    "# The monthly amount for the member's household income\n",
    "monthly_income = 12000\n"
   ]
  },
  {
   "cell_type": "markdown",
   "metadata": {},
   "source": [
    "#### Review the endpoint URLs for the API calls to Free Crypto API in order to get the current pricing information for both BTC and ETH."
   ]
  },
  {
   "cell_type": "code",
   "execution_count": 5,
   "metadata": {},
   "outputs": [],
   "source": [
    "# The Free Crypto API Call endpoint URLs for the held cryptocurrency assets\n",
    "btc_url = \"https://api.alternative.me/v2/ticker/Bitcoin/?convert=USD\"\n",
    "eth_url = \"https://api.alternative.me/v2/ticker/Ethereum/?convert=USD\""
   ]
  },
  {
   "cell_type": "markdown",
   "metadata": {},
   "source": [
    "#### Step 2. Use the Requests library to get the current price (in US dollars) of Bitcoin (BTC) and Ethereum (ETH) by using the API endpoints that the starter code supplied."
   ]
  },
  {
   "cell_type": "code",
   "execution_count": 6,
   "metadata": {},
   "outputs": [
    {
     "name": "stdout",
     "output_type": "stream",
     "text": [
      "{\n",
      "     \"data\": {\n",
      "          \"1\": {\n",
      "               \"circulating_supply\": 19112431,\n",
      "               \"id\": 1,\n",
      "               \"last_updated\": 1659652094,\n",
      "               \"max_supply\": 21000000,\n",
      "               \"name\": \"Bitcoin\",\n",
      "               \"quotes\": {\n",
      "                    \"USD\": {\n",
      "                         \"market_cap\": 431144448111,\n",
      "                         \"percent_change_1h\": 0.0659113710830361,\n",
      "                         \"percent_change_24h\": -2.51433391263817,\n",
      "                         \"percent_change_7d\": -1.53678172294458,\n",
      "                         \"percentage_change_1h\": 0.0659113710830361,\n",
      "                         \"percentage_change_24h\": -2.51433391263817,\n",
      "                         \"percentage_change_7d\": -1.53678172294458,\n",
      "                         \"price\": 22557.0,\n",
      "                         \"volume_24h\": 24162055484\n",
      "                    }\n",
      "               },\n",
      "               \"rank\": 1,\n",
      "               \"symbol\": \"BTC\",\n",
      "               \"total_supply\": 19112431,\n",
      "               \"website_slug\": \"bitcoin\"\n",
      "          }\n",
      "     },\n",
      "     \"metadata\": {\n",
      "          \"error\": null,\n",
      "          \"num_cryptocurrencies\": 3116,\n",
      "          \"timestamp\": 1659652094\n",
      "     }\n",
      "}\n"
     ]
    }
   ],
   "source": [
    "# Using the Python requests library, make an API call to access the current price of BTC\n",
    "btc_response = requests.get(btc_url).json()\n",
    "\n",
    "# Use the json.dumps function to review the response data from the API call\n",
    "# Use the indent and sort_keys parameters to make the response object readable\n",
    "print(json.dumps(btc_response, indent = 5, sort_keys=True))\n"
   ]
  },
  {
   "cell_type": "code",
   "execution_count": 7,
   "metadata": {},
   "outputs": [
    {
     "name": "stdout",
     "output_type": "stream",
     "text": [
      "{\n",
      "     \"data\": {\n",
      "          \"1027\": {\n",
      "               \"circulating_supply\": 119962663,\n",
      "               \"id\": 1027,\n",
      "               \"last_updated\": 1659652116,\n",
      "               \"max_supply\": 119962663,\n",
      "               \"name\": \"Ethereum\",\n",
      "               \"quotes\": {\n",
      "                    \"USD\": {\n",
      "                         \"market_cap\": 191031613145,\n",
      "                         \"percent_change_1h\": -0.0567845439996892,\n",
      "                         \"percent_change_24h\": -2.25599753220527,\n",
      "                         \"percent_change_7d\": -2.57696686487435,\n",
      "                         \"percentage_change_1h\": -0.0567845439996892,\n",
      "                         \"percentage_change_24h\": -2.25599753220527,\n",
      "                         \"percentage_change_7d\": -2.57696686487435,\n",
      "                         \"price\": 1594.77,\n",
      "                         \"volume_24h\": 14329915624\n",
      "                    }\n",
      "               },\n",
      "               \"rank\": 2,\n",
      "               \"symbol\": \"ETH\",\n",
      "               \"total_supply\": 119962663,\n",
      "               \"website_slug\": \"ethereum\"\n",
      "          }\n",
      "     },\n",
      "     \"metadata\": {\n",
      "          \"error\": null,\n",
      "          \"num_cryptocurrencies\": 3116,\n",
      "          \"timestamp\": 1659652116\n",
      "     }\n",
      "}\n"
     ]
    }
   ],
   "source": [
    "# Using the Python requests library, make an API call to access the current price ETH\n",
    "eth_response = requests.get(eth_url).json()\n",
    "\n",
    "# Use the json.dumps function to review the response data from the API call\n",
    "# Use the indent and sort_keys parameters to make the response object readable\n",
    "print(json.dumps(eth_response, indent = 5, sort_keys=True))\n"
   ]
  },
  {
   "cell_type": "markdown",
   "metadata": {},
   "source": [
    "#### Step 3: Navigate the JSON response object to access the current price of each coin, and store each in a variable."
   ]
  },
  {
   "cell_type": "code",
   "execution_count": 8,
   "metadata": {},
   "outputs": [
    {
     "name": "stdout",
     "output_type": "stream",
     "text": [
      "The current price of Bitcoin in USD is: $ 22557.00\n"
     ]
    }
   ],
   "source": [
    "# Navigate the BTC response object to access the current price of BTC\n",
    "btc_price = btc_response['data']['1']['quotes']['USD']['price']\n",
    "\n",
    "# Print the current price of BTC\n",
    "print(f\"The current price of Bitcoin in USD is: ${(btc_price): .2f}\")\n"
   ]
  },
  {
   "cell_type": "code",
   "execution_count": 9,
   "metadata": {},
   "outputs": [
    {
     "name": "stdout",
     "output_type": "stream",
     "text": [
      "The current price of Ethereum in USD is: $ 1594.77\n"
     ]
    }
   ],
   "source": [
    "# Navigate the BTC response object to access the current price of ETH\n",
    "eth_price = eth_response['data']['1027']['quotes']['USD']['price']\n",
    "\n",
    "# Print the current price of ETH\n",
    "print(f\"The current price of Ethereum in USD is: ${(eth_price): .2f}\")\n"
   ]
  },
  {
   "cell_type": "markdown",
   "metadata": {},
   "source": [
    "### Step 4: Calculate the value, in US dollars, of the current amount of each cryptocurrency and of the entire cryptocurrency wallet."
   ]
  },
  {
   "cell_type": "code",
   "execution_count": 10,
   "metadata": {},
   "outputs": [
    {
     "name": "stdout",
     "output_type": "stream",
     "text": [
      "The current value of your Bitcoin holdings in USD is: $ 27068.40\n"
     ]
    }
   ],
   "source": [
    "# Compute the current value of the BTC holding \n",
    "btc_value = btc_coins * btc_price\n",
    "\n",
    "# Print current value of your holding in BTC\n",
    "print(f\"The current value of your Bitcoin holdings in USD is: ${(btc_value): .2f}\")\n"
   ]
  },
  {
   "cell_type": "code",
   "execution_count": 11,
   "metadata": {},
   "outputs": [
    {
     "name": "stdout",
     "output_type": "stream",
     "text": [
      "The current value of your Ethereum holdings in USD is: $ 8452.28\n"
     ]
    }
   ],
   "source": [
    "# Compute the current value of the ETH holding \n",
    "eth_value = eth_coins * eth_price\n",
    "\n",
    "# Print current value of your holding in ETH\n",
    "print(f\"The current value of your Ethereum holdings in USD is: ${(eth_value): .2f}\")\n"
   ]
  },
  {
   "cell_type": "code",
   "execution_count": 12,
   "metadata": {},
   "outputs": [
    {
     "name": "stdout",
     "output_type": "stream",
     "text": [
      "The current total value of your cryptocurrency wallet holdings in USD is: $ 35520.68\n"
     ]
    }
   ],
   "source": [
    "# Compute the total value of the cryptocurrency wallet\n",
    "# Add the value of the BTC holding to the value of the ETH holding\n",
    "total_crypto_wallet = btc_value + eth_value\n",
    "\n",
    "# Print current cryptocurrency wallet balance\n",
    "print(f\"The current total value of your cryptocurrency wallet holdings in USD is: ${(total_crypto_wallet): .2f}\")\n"
   ]
  },
  {
   "cell_type": "markdown",
   "metadata": {},
   "source": [
    "### Evaluate the Stock and Bond Holdings by Using the Alpaca SDK\n",
    "\n",
    "In this section, you’ll determine the current value of a member’s stock and bond holdings. You’ll make an API call to Alpaca via the Alpaca SDK to get the current closing prices of the SPDR S&P 500 ETF Trust (ticker: SPY) and of the iShares Core US Aggregate Bond ETF (ticker: AGG). For the prototype, assume that the member holds 110 shares of SPY, which represents the stock portion of their portfolio, and 200 shares of AGG, which represents the bond portion. To do all this, complete the following steps:\n",
    "\n",
    "1. In the `Starter_Code` folder, create an environment file (`.env`) to store the values of your Alpaca API key and Alpaca secret key.\n",
    "\n",
    "2. Set the variables for the Alpaca API and secret keys. Using the Alpaca SDK, create the Alpaca `tradeapi.REST` object. In this object, include the parameters for the Alpaca API key, the secret key, and the version number.\n",
    "\n",
    "3. Set the following parameters for the Alpaca API call:\n",
    "\n",
    "    - `tickers`: Use the tickers for the member’s stock and bond holdings.\n",
    "\n",
    "    - `timeframe`: Use a time frame of one day.\n",
    "\n",
    "    - `start_date` and `end_date`: Use the same date for these parameters, and format them with the date of the previous weekday (or `2020-08-07`). This is because you want the one closing price for the most-recent trading day.\n",
    "\n",
    "4. Get the current closing prices for `SPY` and `AGG` by using the Alpaca `get_bars` function. Format the response as a Pandas DataFrame by including the `df` property at the end of the `get_bars` function.\n",
    "\n",
    "5. Navigating the Alpaca response DataFrame, select the `SPY` and `AGG` closing prices, and store them as variables.\n",
    "\n",
    "6. Calculate the value, in US dollars, of the current amount of shares in each of the stock and bond portions of the portfolio, and print the results.\n"
   ]
  },
  {
   "cell_type": "markdown",
   "metadata": {},
   "source": [
    "#### Review the total number of shares held in both (SPY) and (AGG)."
   ]
  },
  {
   "cell_type": "code",
   "execution_count": 13,
   "metadata": {},
   "outputs": [],
   "source": [
    "# Current amount of shares held in both the stock (SPY) and bond (AGG) portion of the portfolio.\n",
    "spy_shares = 110\n",
    "agg_shares = 200\n"
   ]
  },
  {
   "cell_type": "markdown",
   "metadata": {},
   "source": [
    "#### Step 1: In the `Starter_Code` folder, create an environment file (`.env`) to store the values of your Alpaca API key and Alpaca secret key."
   ]
  },
  {
   "cell_type": "markdown",
   "metadata": {},
   "source": [
    "#### Step 2: Set the variables for the Alpaca API and secret keys. Using the Alpaca SDK, create the Alpaca `tradeapi.REST` object. In this object, include the parameters for the Alpaca API key, the secret key, and the version number."
   ]
  },
  {
   "cell_type": "code",
   "execution_count": 14,
   "metadata": {},
   "outputs": [
    {
     "data": {
      "text/plain": [
       "str"
      ]
     },
     "metadata": {},
     "output_type": "display_data"
    },
    {
     "data": {
      "text/plain": [
       "str"
      ]
     },
     "metadata": {},
     "output_type": "display_data"
    },
    {
     "data": {
      "text/plain": [
       "alpaca_trade_api.rest.REST"
      ]
     },
     "metadata": {},
     "output_type": "display_data"
    }
   ],
   "source": [
    "# Set the variables for the Alpaca API and secret keys\n",
    "alpaca_api_key = os.getenv(\"ALPACA_API_KEY\")\n",
    "alpaca_secret_key = os.getenv(\"ALPACA_SECRET_KEY\")\n",
    "\n",
    "# Display Object Type for Read Confirmation\n",
    "display(type(alpaca_api_key))\n",
    "display(type(alpaca_secret_key))\n",
    "\n",
    "# Create the Alpaca tradeapi.REST object\n",
    "alpaca = tradeapi.REST(\n",
    "    alpaca_api_key,\n",
    "    alpaca_secret_key,\n",
    "    api_version=\"v2\")\n",
    "\n",
    "# display object Type for alpaca_api object\n",
    "display(type(alpaca))"
   ]
  },
  {
   "cell_type": "markdown",
   "metadata": {},
   "source": [
    "#### Step 3: Set the following parameters for the Alpaca API call:\n",
    "\n",
    "- `tickers`: Use the tickers for the member’s stock and bond holdings.\n",
    "\n",
    "- `timeframe`: Use a time frame of one day.\n",
    "\n",
    "- `start_date` and `end_date`: Use the same date for these parameters, and format them with the date of the previous weekday (or `2020-08-07`). This is because you want the one closing price for the most-recent trading day.\n"
   ]
  },
  {
   "cell_type": "code",
   "execution_count": 15,
   "metadata": {},
   "outputs": [],
   "source": [
    "# Set the tickers for both the bond and stock portion of the portfolio\n",
    "tickers = [\"SPY\", \"AGG\"]\n",
    "\n",
    "# Set timeframe to 1Day\n",
    "timeframe = \"1Day\"\n",
    "\n",
    "# Format current date as ISO format\n",
    "# Set both the start and end date at the date of your prior weekday \n",
    "# This will give you the closing price of the previous trading day\n",
    "# Alternatively you can use a start and end date of 2020-08-07\n",
    "start_date = pd.Timestamp(\"2022-07-29\", tz=\"America/New_York\").isoformat()\n",
    "end_date = pd.Timestamp(\"2022-07-29\", tz=\"America/New_York\").isoformat()\n"
   ]
  },
  {
   "cell_type": "markdown",
   "metadata": {},
   "source": [
    "#### Step 4: Get the current closing prices for `SPY` and `AGG` by using the Alpaca `get_bars` function. Format the response as a Pandas DataFrame by including the `df` property at the end of the `get_bars` function."
   ]
  },
  {
   "cell_type": "code",
   "execution_count": 16,
   "metadata": {},
   "outputs": [
    {
     "data": {
      "text/html": [
       "<div>\n",
       "<style scoped>\n",
       "    .dataframe tbody tr th:only-of-type {\n",
       "        vertical-align: middle;\n",
       "    }\n",
       "\n",
       "    .dataframe tbody tr th {\n",
       "        vertical-align: top;\n",
       "    }\n",
       "\n",
       "    .dataframe thead tr th {\n",
       "        text-align: left;\n",
       "    }\n",
       "\n",
       "    .dataframe thead tr:last-of-type th {\n",
       "        text-align: right;\n",
       "    }\n",
       "</style>\n",
       "<table border=\"1\" class=\"dataframe\">\n",
       "  <thead>\n",
       "    <tr>\n",
       "      <th></th>\n",
       "      <th colspan=\"7\" halign=\"left\">SPY</th>\n",
       "      <th colspan=\"7\" halign=\"left\">AGG</th>\n",
       "    </tr>\n",
       "    <tr>\n",
       "      <th></th>\n",
       "      <th>open</th>\n",
       "      <th>high</th>\n",
       "      <th>low</th>\n",
       "      <th>close</th>\n",
       "      <th>volume</th>\n",
       "      <th>trade_count</th>\n",
       "      <th>vwap</th>\n",
       "      <th>open</th>\n",
       "      <th>high</th>\n",
       "      <th>low</th>\n",
       "      <th>close</th>\n",
       "      <th>volume</th>\n",
       "      <th>trade_count</th>\n",
       "      <th>vwap</th>\n",
       "    </tr>\n",
       "    <tr>\n",
       "      <th>timestamp</th>\n",
       "      <th></th>\n",
       "      <th></th>\n",
       "      <th></th>\n",
       "      <th></th>\n",
       "      <th></th>\n",
       "      <th></th>\n",
       "      <th></th>\n",
       "      <th></th>\n",
       "      <th></th>\n",
       "      <th></th>\n",
       "      <th></th>\n",
       "      <th></th>\n",
       "      <th></th>\n",
       "      <th></th>\n",
       "    </tr>\n",
       "  </thead>\n",
       "  <tbody>\n",
       "    <tr>\n",
       "      <th>2022-07-29 04:00:00+00:00</th>\n",
       "      <td>407.7</td>\n",
       "      <td>413.02</td>\n",
       "      <td>406.77</td>\n",
       "      <td>411.99</td>\n",
       "      <td>86779944</td>\n",
       "      <td>544810</td>\n",
       "      <td>410.668581</td>\n",
       "      <td>103.94</td>\n",
       "      <td>104.395</td>\n",
       "      <td>103.83</td>\n",
       "      <td>104.07</td>\n",
       "      <td>6523118</td>\n",
       "      <td>22800</td>\n",
       "      <td>104.156714</td>\n",
       "    </tr>\n",
       "  </tbody>\n",
       "</table>\n",
       "</div>"
      ],
      "text/plain": [
       "                             SPY                                    \\\n",
       "                            open    high     low   close    volume   \n",
       "timestamp                                                            \n",
       "2022-07-29 04:00:00+00:00  407.7  413.02  406.77  411.99  86779944   \n",
       "\n",
       "                                                      AGG                   \\\n",
       "                          trade_count        vwap    open     high     low   \n",
       "timestamp                                                                    \n",
       "2022-07-29 04:00:00+00:00      544810  410.668581  103.94  104.395  103.83   \n",
       "\n",
       "                                                                    \n",
       "                            close   volume trade_count        vwap  \n",
       "timestamp                                                           \n",
       "2022-07-29 04:00:00+00:00  104.07  6523118       22800  104.156714  "
      ]
     },
     "execution_count": 16,
     "metadata": {},
     "output_type": "execute_result"
    }
   ],
   "source": [
    "# Use the Alpaca get_bars function to get current closing prices the portfolio\n",
    "# Be sure to set the `df` property after the function to format the response object as a DataFrame\n",
    "stock_bond_prices_df = alpaca.get_bars(\n",
    "    tickers, \n",
    "    timeframe,\n",
    "    start = start_date,\n",
    "    end = end_date\n",
    ").df\n",
    "\n",
    "# Display Price Dataframe for Data Validation\n",
    "stock_bond_prices_df\n",
    "\n",
    "# Reorganize the DataFrame\n",
    "# Separate ticker data\n",
    "SPY = stock_bond_prices_df[stock_bond_prices_df['symbol']=='SPY'].drop('symbol', axis=1)\n",
    "AGG = stock_bond_prices_df[stock_bond_prices_df['symbol']=='AGG'].drop('symbol', axis=1)\n",
    "\n",
    "# Concatenate the ticker DataFrames\n",
    "stock_bond_prices_df = pd.concat([SPY, AGG], axis=1, keys = ['SPY', 'AGG'])\n",
    "\n",
    "# Review the first 5 rows of the Alpaca DataFrame\n",
    "stock_bond_prices_df.head()\n"
   ]
  },
  {
   "cell_type": "markdown",
   "metadata": {},
   "source": [
    "#### Step 5: Navigating the Alpaca response DataFrame, select the `SPY` and `AGG` closing prices, and store them as variables."
   ]
  },
  {
   "cell_type": "code",
   "execution_count": 17,
   "metadata": {},
   "outputs": [
    {
     "name": "stdout",
     "output_type": "stream",
     "text": [
      "The AGG closing price is: $ 104.07\n"
     ]
    }
   ],
   "source": [
    "# Access the closing price for AGG from the Alpaca DataFrame\n",
    "# Converting the value to a floating point number\n",
    "agg_close_price = stock_bond_prices_df['AGG']['close']\n",
    "\n",
    "# Print the AGG closing price\n",
    "agg_close_price = float(agg_close_price)\n",
    "print(f\"The AGG closing price is: $\", agg_close_price)"
   ]
  },
  {
   "cell_type": "code",
   "execution_count": 18,
   "metadata": {},
   "outputs": [
    {
     "name": "stdout",
     "output_type": "stream",
     "text": [
      "The SPY closing price is: $ 411.99\n"
     ]
    }
   ],
   "source": [
    "# Access the closing price for SPY from the Alpaca DataFrame\n",
    "# Converting the value to a floating point number\n",
    "spy_close_price = stock_bond_prices_df['SPY']['close']\n",
    "\n",
    "# Print the SPY closing price\n",
    "spy_close_price = float(spy_close_price)\n",
    "print(f\"The SPY closing price is: $\", spy_close_price)"
   ]
  },
  {
   "cell_type": "markdown",
   "metadata": {},
   "source": [
    "#### Step 6: Calculate the value, in US dollars, of the current amount of shares in each of the stock and bond portions of the portfolio, and print the results."
   ]
  },
  {
   "cell_type": "code",
   "execution_count": 19,
   "metadata": {},
   "outputs": [
    {
     "name": "stdout",
     "output_type": "stream",
     "text": [
      "The AGG bond portfolio current value is: $ 20814.0\n"
     ]
    }
   ],
   "source": [
    "# Calculate the current value of the bond portion of the portfolio\n",
    "agg_value = agg_shares * agg_close_price\n",
    "\n",
    "# Print the current value of the bond portfolio\n",
    "print(f\"The AGG bond portfolio current value is: $\", agg_value)\n"
   ]
  },
  {
   "cell_type": "code",
   "execution_count": 20,
   "metadata": {},
   "outputs": [
    {
     "name": "stdout",
     "output_type": "stream",
     "text": [
      "The SPY stock portfolio current value is: $ 45318.9\n"
     ]
    }
   ],
   "source": [
    "# Calculate the current value of the stock portion of the portfolio\n",
    "spy_value = spy_shares * spy_close_price\n",
    "\n",
    "# Print the current value of the stock portfolio\n",
    "print(f\"The SPY stock portfolio current value is: $\", spy_value)\n"
   ]
  },
  {
   "cell_type": "code",
   "execution_count": 21,
   "metadata": {},
   "outputs": [
    {
     "name": "stdout",
     "output_type": "stream",
     "text": [
      "The current balance of the stock and bond portfolio is: $ 66132.9\n"
     ]
    }
   ],
   "source": [
    "# Calculate the total value of the stock and bond portion of the portfolio\n",
    "total_stocks_bonds = agg_value + spy_value\n",
    "\n",
    "# Print the current balance of the stock and bond portion of the portfolio\n",
    "print(f\"The current balance of the stock and bond portfolio is: $\", total_stocks_bonds)\n"
   ]
  },
  {
   "cell_type": "code",
   "execution_count": 22,
   "metadata": {},
   "outputs": [
    {
     "name": "stdout",
     "output_type": "stream",
     "text": [
      "The total value of the portfolio is: $ 101653.58099999999\n"
     ]
    }
   ],
   "source": [
    "# Calculate the total value of the member's entire savings portfolio\n",
    "# Add the value of the cryptocurrency walled to the value of the total stocks and bonds\n",
    "total_portfolio = total_stocks_bonds + total_crypto_wallet\n",
    "\n",
    "# Print current cryptocurrency wallet balance\n",
    "print(f\"The total value of the portfolio is: $\", total_portfolio)\n"
   ]
  },
  {
   "cell_type": "markdown",
   "metadata": {},
   "source": [
    "### Evaluate the Emergency Fund\n",
    "\n",
    "In this section, you’ll use the valuations for the cryptocurrency wallet and for the stock and bond portions of the portfolio to determine if the credit union member has enough savings to build an emergency fund into their financial plan. To do this, complete the following steps:\n",
    "\n",
    "1. Create a Python list named `savings_data` that has two elements. The first element contains the total value of the cryptocurrency wallet. The second element contains the total value of the stock and bond portions of the portfolio.\n",
    "\n",
    "2. Use the `savings_data` list to create a Pandas DataFrame named `savings_df`, and then display this DataFrame. The function to create the DataFrame should take the following three parameters:\n",
    "\n",
    "    - `savings_data`: Use the list that you just created.\n",
    "\n",
    "    - `columns`: Set this parameter equal to a Python list with a single value called `amount`.\n",
    "\n",
    "    - `index`: Set this parameter equal to a Python list with the values of `crypto` and `stock/bond`.\n",
    "\n",
    "3. Use the `savings_df` DataFrame to plot a pie chart that visualizes the composition of the member’s portfolio. The y-axis of the pie chart uses `amount`. Be sure to add a title.\n",
    "\n",
    "4. Using Python, determine if the current portfolio has enough to create an emergency fund as part of the member’s financial plan. Ideally, an emergency fund should equal to three times the member’s monthly income. To do this, implement the following steps:\n",
    "\n",
    "    1. Create a variable named `emergency_fund_value`, and set it equal to three times the value of the member’s `monthly_income` of $12000. (You set this earlier in Part 1).\n",
    "\n",
    "    2. Create a series of three if statements to determine if the member’s total portfolio is large enough to fund the emergency portfolio:\n",
    "\n",
    "        1. If the total portfolio value is greater than the emergency fund value, display a message congratulating the member for having enough money in this fund.\n",
    "\n",
    "        2. Else if the total portfolio value is equal to the emergency fund value, display a message congratulating the member on reaching this important financial goal.\n",
    "\n",
    "        3. Else the total portfolio is less than the emergency fund value, so display a message showing how many dollars away the member is from reaching the goal. (Subtract the total portfolio value from the emergency fund value.)\n"
   ]
  },
  {
   "cell_type": "markdown",
   "metadata": {},
   "source": [
    "#### Step 1: Create a Python list named `savings_data` that has two elements. The first element contains the total value of the cryptocurrency wallet. The second element contains the total value of the stock and bond portions of the portfolio."
   ]
  },
  {
   "cell_type": "code",
   "execution_count": 23,
   "metadata": {},
   "outputs": [
    {
     "data": {
      "text/plain": [
       "[35520.681, 66132.9]"
      ]
     },
     "execution_count": 23,
     "metadata": {},
     "output_type": "execute_result"
    }
   ],
   "source": [
    "# Consolidate financial assets data into a Python list\n",
    "savings_data = [total_crypto_wallet, total_stocks_bonds]\n",
    "\n",
    "# Review the Python list savings_data\n",
    "savings_data\n",
    "    "
   ]
  },
  {
   "cell_type": "markdown",
   "metadata": {},
   "source": [
    "#### Step 2: Use the `savings_data` list to create a Pandas DataFrame named `savings_df`, and then display this DataFrame. The function to create the DataFrame should take the following three parameters:\n",
    "\n",
    "- `savings_data`: Use the list that you just created.\n",
    "\n",
    "- `columns`: Set this parameter equal to a Python list with a single value called `amount`.\n",
    "\n",
    "- `index`: Set this parameter equal to a Python list with the values of `crypto` and `stock/bond`.\n"
   ]
  },
  {
   "cell_type": "code",
   "execution_count": 24,
   "metadata": {},
   "outputs": [
    {
     "data": {
      "text/html": [
       "<div>\n",
       "<style scoped>\n",
       "    .dataframe tbody tr th:only-of-type {\n",
       "        vertical-align: middle;\n",
       "    }\n",
       "\n",
       "    .dataframe tbody tr th {\n",
       "        vertical-align: top;\n",
       "    }\n",
       "\n",
       "    .dataframe thead th {\n",
       "        text-align: right;\n",
       "    }\n",
       "</style>\n",
       "<table border=\"1\" class=\"dataframe\">\n",
       "  <thead>\n",
       "    <tr style=\"text-align: right;\">\n",
       "      <th></th>\n",
       "      <th>amount</th>\n",
       "    </tr>\n",
       "  </thead>\n",
       "  <tbody>\n",
       "    <tr>\n",
       "      <th>crypto</th>\n",
       "      <td>35520.681</td>\n",
       "    </tr>\n",
       "    <tr>\n",
       "      <th>stock/bond</th>\n",
       "      <td>66132.900</td>\n",
       "    </tr>\n",
       "  </tbody>\n",
       "</table>\n",
       "</div>"
      ],
      "text/plain": [
       "               amount\n",
       "crypto      35520.681\n",
       "stock/bond  66132.900"
      ]
     },
     "execution_count": 24,
     "metadata": {},
     "output_type": "execute_result"
    }
   ],
   "source": [
    "# Create a Pandas DataFrame called savings_df \n",
    "savings_df = pd.DataFrame(savings_data, columns = [\"amount\"], index = [\"crypto\", \"stock/bond\"])\n",
    "\n",
    "# Display the savings_df DataFrame\n",
    "savings_df\n"
   ]
  },
  {
   "cell_type": "markdown",
   "metadata": {},
   "source": [
    "#### Step 3: Use the `savings_df` DataFrame to plot a pie chart that visualizes the composition of the member’s portfolio. The y-axis of the pie chart uses `amount`. Be sure to add a title."
   ]
  },
  {
   "cell_type": "code",
   "execution_count": 25,
   "metadata": {},
   "outputs": [
    {
     "data": {
      "text/plain": [
       "<AxesSubplot:title={'center':'Portfolio Composition'}, ylabel='amount'>"
      ]
     },
     "execution_count": 25,
     "metadata": {},
     "output_type": "execute_result"
    },
    {
     "data": {
      "image/png": "[encoded data removed]",
      "text/plain": [
       "<Figure size 720x360 with 1 Axes>"
      ]
     },
     "metadata": {},
     "output_type": "display_data"
    }
   ],
   "source": [
    "# Plot the total value of the member's portfolio (crypto and stock/bond) in a pie chart\n",
    "savings_df.plot.pie(y=\"amount\", figsize=(10,5), title = \"Portfolio Composition\")\n"
   ]
  },
  {
   "cell_type": "markdown",
   "metadata": {},
   "source": [
    "#### Step 4: Using Python, determine if the current portfolio has enough to create an emergency fund as part of the member’s financial plan. Ideally, an emergency fund should equal to three times the member’s monthly income. To do this, implement the following steps:\n",
    "\n",
    "Step 1. Create a variable named `emergency_fund_value`, and set it equal to three times the value of the member’s `monthly_income` of 12000. (You set this earlier in Part 1).\n",
    "\n",
    "Step 2. Create a series of three if statements to determine if the member’s total portfolio is large enough to fund the emergency portfolio:\n",
    "\n",
    "* If the total portfolio value is greater than the emergency fund value, display a message congratulating the member for having enough money in this fund.\n",
    "\n",
    "* Else if the total portfolio value is equal to the emergency fund value, display a message congratulating the member on reaching this important financial goal.\n",
    "\n",
    "* Else the total portfolio is less than the emergency fund value, so display a message showing how many dollars away the member is from reaching the goal. (Subtract the total portfolio value from the emergency fund value.)\n"
   ]
  },
  {
   "cell_type": "markdown",
   "metadata": {},
   "source": [
    "##### Step 4-1: Create a variable named `emergency_fund_value`, and set it equal to three times the value of the member’s `monthly_income` of 12000. (You set this earlier in Part 1)."
   ]
  },
  {
   "cell_type": "code",
   "execution_count": 26,
   "metadata": {},
   "outputs": [],
   "source": [
    "# Create a variable named emergency_fund_value\n",
    "emergency_fund_value = monthly_income * 3\n"
   ]
  },
  {
   "cell_type": "markdown",
   "metadata": {},
   "source": [
    "##### Step 4-2: Create a series of three if statements to determine if the member’s total portfolio is large enough to fund the emergency portfolio:\n",
    "\n",
    "* If the total portfolio value is greater than the emergency fund value, display a message congratulating the member for having enough money in this fund.\n",
    "\n",
    "* Else if the total portfolio value is equal to the emergency fund value, display a message congratulating the member on reaching this important financial goal.\n",
    "\n",
    "* Else the total portfolio is less than the emergency fund value, so display a message showing how many dollars away the member is from reaching the goal. (Subtract the total portfolio value from the emergency fund value.)"
   ]
  },
  {
   "cell_type": "code",
   "execution_count": 27,
   "metadata": {},
   "outputs": [
    {
     "name": "stdout",
     "output_type": "stream",
     "text": [
      "You have enough money in your fund for an emergency fund.\n"
     ]
    }
   ],
   "source": [
    "# Evaluate the possibility of creating an emergency fund with 3 conditions:\n",
    "if total_portfolio > emergency_fund_value: \n",
    "    print(\"You have enough money in your fund for an emergency fund.\")\n",
    "elif total_portfolio == emergency_fund_value: \n",
    "    print(\"You have reached your financial goal.\")\n",
    "elif total_portfolio < emergency_fund_value:\n",
    "    print(f\"You need {emergency_fund_value-total_portfolio} dollars to meet your financial goal.\")\n"
   ]
  },
  {
   "cell_type": "markdown",
   "metadata": {},
   "source": [
    "## Part 2: Create a Financial Planner for Retirement"
   ]
  },
  {
   "cell_type": "markdown",
   "metadata": {},
   "source": [
    "### Create the Monte Carlo Simulation\n",
    "\n",
    "In this section, you’ll use the MCForecastTools library to create a Monte Carlo simulation for the member’s savings portfolio. To do this, complete the following steps:\n",
    "\n",
    "1. Make an API call via the Alpaca SDK to get 3 years of historical closing prices for a traditional 60/40 portfolio split: 60% stocks (SPY) and 40% bonds (AGG).\n",
    "\n",
    "2. Run a Monte Carlo simulation of 500 samples and 30 years for the 60/40 portfolio, and then plot the results.The following image shows the overlay line plot resulting from a simulation with these characteristics. However, because a random number generator is used to run each live Monte Carlo simulation, your image will differ slightly from this exact image:\n",
    "\n",
    "![A screenshot depicts the resulting plot.](Images/5-4-monte-carlo-line-plot.png)\n",
    "\n",
    "3. Plot the probability distribution of the Monte Carlo simulation. Plot the probability distribution of the Monte Carlo simulation. The following image shows the histogram plot resulting from a simulation with these characteristics. However, because a random number generator is used to run each live Monte Carlo simulation, your image will differ slightly from this exact image:\n",
    "\n",
    "![A screenshot depicts the histogram plot.](Images/5-4-monte-carlo-histogram.png)\n",
    "\n",
    "4. Generate the summary statistics for the Monte Carlo simulation.\n",
    "\n"
   ]
  },
  {
   "cell_type": "markdown",
   "metadata": {},
   "source": [
    "#### Step 1: Make an API call via the Alpaca SDK to get 3 years of historical closing prices for a traditional 60/40 portfolio split: 60% stocks (SPY) and 40% bonds (AGG)."
   ]
  },
  {
   "cell_type": "code",
   "execution_count": 28,
   "metadata": {},
   "outputs": [],
   "source": [
    "# Set start and end dates of 3 years back from your current date\n",
    "# Alternatively, you can use an end date of 2020-08-07 and work 3 years back from that date \n",
    "start_date_3y = pd.Timestamp(\"2019-07-29\", tz=\"America/New_York\").isoformat()\n",
    "end_date_3y = pd.Timestamp(\"2022-07-29\", tz=\"America/New_York\").isoformat()"
   ]
  },
  {
   "cell_type": "code",
   "execution_count": 29,
   "metadata": {},
   "outputs": [
    {
     "data": {
      "text/html": [
       "<div>\n",
       "<style scoped>\n",
       "    .dataframe tbody tr th:only-of-type {\n",
       "        vertical-align: middle;\n",
       "    }\n",
       "\n",
       "    .dataframe tbody tr th {\n",
       "        vertical-align: top;\n",
       "    }\n",
       "\n",
       "    .dataframe thead tr th {\n",
       "        text-align: left;\n",
       "    }\n",
       "\n",
       "    .dataframe thead tr:last-of-type th {\n",
       "        text-align: right;\n",
       "    }\n",
       "</style>\n",
       "<table border=\"1\" class=\"dataframe\">\n",
       "  <thead>\n",
       "    <tr>\n",
       "      <th></th>\n",
       "      <th colspan=\"7\" halign=\"left\">SPY</th>\n",
       "      <th colspan=\"7\" halign=\"left\">AGG</th>\n",
       "    </tr>\n",
       "    <tr>\n",
       "      <th></th>\n",
       "      <th>open</th>\n",
       "      <th>high</th>\n",
       "      <th>low</th>\n",
       "      <th>close</th>\n",
       "      <th>volume</th>\n",
       "      <th>trade_count</th>\n",
       "      <th>vwap</th>\n",
       "      <th>open</th>\n",
       "      <th>high</th>\n",
       "      <th>low</th>\n",
       "      <th>close</th>\n",
       "      <th>volume</th>\n",
       "      <th>trade_count</th>\n",
       "      <th>vwap</th>\n",
       "    </tr>\n",
       "    <tr>\n",
       "      <th>timestamp</th>\n",
       "      <th></th>\n",
       "      <th></th>\n",
       "      <th></th>\n",
       "      <th></th>\n",
       "      <th></th>\n",
       "      <th></th>\n",
       "      <th></th>\n",
       "      <th></th>\n",
       "      <th></th>\n",
       "      <th></th>\n",
       "      <th></th>\n",
       "      <th></th>\n",
       "      <th></th>\n",
       "      <th></th>\n",
       "    </tr>\n",
       "  </thead>\n",
       "  <tbody>\n",
       "    <tr>\n",
       "      <th>2019-07-29 04:00:00+00:00</th>\n",
       "      <td>301.85</td>\n",
       "      <td>302.01</td>\n",
       "      <td>300.85</td>\n",
       "      <td>301.46</td>\n",
       "      <td>38182966</td>\n",
       "      <td>185789</td>\n",
       "      <td>301.477510</td>\n",
       "      <td>111.30</td>\n",
       "      <td>111.350</td>\n",
       "      <td>111.220</td>\n",
       "      <td>111.26</td>\n",
       "      <td>4667109</td>\n",
       "      <td>9067</td>\n",
       "      <td>111.287204</td>\n",
       "    </tr>\n",
       "    <tr>\n",
       "      <th>2019-07-30 04:00:00+00:00</th>\n",
       "      <td>299.90</td>\n",
       "      <td>301.17</td>\n",
       "      <td>299.49</td>\n",
       "      <td>300.72</td>\n",
       "      <td>46360267</td>\n",
       "      <td>208893</td>\n",
       "      <td>300.597002</td>\n",
       "      <td>111.27</td>\n",
       "      <td>111.330</td>\n",
       "      <td>111.160</td>\n",
       "      <td>111.25</td>\n",
       "      <td>2409278</td>\n",
       "      <td>9125</td>\n",
       "      <td>111.240710</td>\n",
       "    </tr>\n",
       "    <tr>\n",
       "      <th>2019-07-31 04:00:00+00:00</th>\n",
       "      <td>300.98</td>\n",
       "      <td>301.20</td>\n",
       "      <td>295.20</td>\n",
       "      <td>297.43</td>\n",
       "      <td>104971212</td>\n",
       "      <td>537642</td>\n",
       "      <td>298.744183</td>\n",
       "      <td>111.30</td>\n",
       "      <td>111.590</td>\n",
       "      <td>111.070</td>\n",
       "      <td>111.30</td>\n",
       "      <td>12972717</td>\n",
       "      <td>17896</td>\n",
       "      <td>111.389988</td>\n",
       "    </tr>\n",
       "    <tr>\n",
       "      <th>2019-08-01 04:00:00+00:00</th>\n",
       "      <td>297.56</td>\n",
       "      <td>300.87</td>\n",
       "      <td>293.96</td>\n",
       "      <td>294.84</td>\n",
       "      <td>142653060</td>\n",
       "      <td>771413</td>\n",
       "      <td>296.650886</td>\n",
       "      <td>111.34</td>\n",
       "      <td>111.950</td>\n",
       "      <td>111.260</td>\n",
       "      <td>111.91</td>\n",
       "      <td>5709211</td>\n",
       "      <td>22712</td>\n",
       "      <td>111.700343</td>\n",
       "    </tr>\n",
       "    <tr>\n",
       "      <th>2019-08-02 04:00:00+00:00</th>\n",
       "      <td>293.86</td>\n",
       "      <td>294.12</td>\n",
       "      <td>290.90</td>\n",
       "      <td>292.62</td>\n",
       "      <td>118248370</td>\n",
       "      <td>552082</td>\n",
       "      <td>292.544668</td>\n",
       "      <td>111.93</td>\n",
       "      <td>112.040</td>\n",
       "      <td>111.820</td>\n",
       "      <td>111.95</td>\n",
       "      <td>3293739</td>\n",
       "      <td>16662</td>\n",
       "      <td>111.917417</td>\n",
       "    </tr>\n",
       "    <tr>\n",
       "      <th>...</th>\n",
       "      <td>...</td>\n",
       "      <td>...</td>\n",
       "      <td>...</td>\n",
       "      <td>...</td>\n",
       "      <td>...</td>\n",
       "      <td>...</td>\n",
       "      <td>...</td>\n",
       "      <td>...</td>\n",
       "      <td>...</td>\n",
       "      <td>...</td>\n",
       "      <td>...</td>\n",
       "      <td>...</td>\n",
       "      <td>...</td>\n",
       "      <td>...</td>\n",
       "    </tr>\n",
       "    <tr>\n",
       "      <th>2022-07-25 04:00:00+00:00</th>\n",
       "      <td>395.72</td>\n",
       "      <td>396.47</td>\n",
       "      <td>393.21</td>\n",
       "      <td>395.57</td>\n",
       "      <td>53336510</td>\n",
       "      <td>437463</td>\n",
       "      <td>395.047557</td>\n",
       "      <td>102.90</td>\n",
       "      <td>103.090</td>\n",
       "      <td>102.870</td>\n",
       "      <td>102.98</td>\n",
       "      <td>3577227</td>\n",
       "      <td>15169</td>\n",
       "      <td>102.964903</td>\n",
       "    </tr>\n",
       "    <tr>\n",
       "      <th>2022-07-26 04:00:00+00:00</th>\n",
       "      <td>393.84</td>\n",
       "      <td>394.06</td>\n",
       "      <td>389.95</td>\n",
       "      <td>390.89</td>\n",
       "      <td>52767480</td>\n",
       "      <td>436591</td>\n",
       "      <td>391.857608</td>\n",
       "      <td>103.44</td>\n",
       "      <td>103.510</td>\n",
       "      <td>102.960</td>\n",
       "      <td>102.96</td>\n",
       "      <td>6203148</td>\n",
       "      <td>17921</td>\n",
       "      <td>103.179189</td>\n",
       "    </tr>\n",
       "    <tr>\n",
       "      <th>2022-07-27 04:00:00+00:00</th>\n",
       "      <td>394.43</td>\n",
       "      <td>402.88</td>\n",
       "      <td>394.05</td>\n",
       "      <td>401.04</td>\n",
       "      <td>81319074</td>\n",
       "      <td>587430</td>\n",
       "      <td>398.307462</td>\n",
       "      <td>103.19</td>\n",
       "      <td>103.640</td>\n",
       "      <td>103.180</td>\n",
       "      <td>103.32</td>\n",
       "      <td>5098243</td>\n",
       "      <td>18390</td>\n",
       "      <td>103.358408</td>\n",
       "    </tr>\n",
       "    <tr>\n",
       "      <th>2022-07-28 04:00:00+00:00</th>\n",
       "      <td>401.84</td>\n",
       "      <td>406.80</td>\n",
       "      <td>398.15</td>\n",
       "      <td>406.07</td>\n",
       "      <td>73966563</td>\n",
       "      <td>570079</td>\n",
       "      <td>403.644305</td>\n",
       "      <td>104.09</td>\n",
       "      <td>104.205</td>\n",
       "      <td>103.835</td>\n",
       "      <td>104.06</td>\n",
       "      <td>6473834</td>\n",
       "      <td>23665</td>\n",
       "      <td>104.024178</td>\n",
       "    </tr>\n",
       "    <tr>\n",
       "      <th>2022-07-29 04:00:00+00:00</th>\n",
       "      <td>407.70</td>\n",
       "      <td>413.02</td>\n",
       "      <td>406.77</td>\n",
       "      <td>411.99</td>\n",
       "      <td>86779944</td>\n",
       "      <td>544810</td>\n",
       "      <td>410.668581</td>\n",
       "      <td>103.94</td>\n",
       "      <td>104.395</td>\n",
       "      <td>103.830</td>\n",
       "      <td>104.07</td>\n",
       "      <td>6523118</td>\n",
       "      <td>22800</td>\n",
       "      <td>104.156714</td>\n",
       "    </tr>\n",
       "  </tbody>\n",
       "</table>\n",
       "<p>758 rows × 14 columns</p>\n",
       "</div>"
      ],
      "text/plain": [
       "                              SPY                                     \\\n",
       "                             open    high     low   close     volume   \n",
       "timestamp                                                              \n",
       "2019-07-29 04:00:00+00:00  301.85  302.01  300.85  301.46   38182966   \n",
       "2019-07-30 04:00:00+00:00  299.90  301.17  299.49  300.72   46360267   \n",
       "2019-07-31 04:00:00+00:00  300.98  301.20  295.20  297.43  104971212   \n",
       "2019-08-01 04:00:00+00:00  297.56  300.87  293.96  294.84  142653060   \n",
       "2019-08-02 04:00:00+00:00  293.86  294.12  290.90  292.62  118248370   \n",
       "...                           ...     ...     ...     ...        ...   \n",
       "2022-07-25 04:00:00+00:00  395.72  396.47  393.21  395.57   53336510   \n",
       "2022-07-26 04:00:00+00:00  393.84  394.06  389.95  390.89   52767480   \n",
       "2022-07-27 04:00:00+00:00  394.43  402.88  394.05  401.04   81319074   \n",
       "2022-07-28 04:00:00+00:00  401.84  406.80  398.15  406.07   73966563   \n",
       "2022-07-29 04:00:00+00:00  407.70  413.02  406.77  411.99   86779944   \n",
       "\n",
       "                                                      AGG                    \\\n",
       "                          trade_count        vwap    open     high      low   \n",
       "timestamp                                                                     \n",
       "2019-07-29 04:00:00+00:00      185789  301.477510  111.30  111.350  111.220   \n",
       "2019-07-30 04:00:00+00:00      208893  300.597002  111.27  111.330  111.160   \n",
       "2019-07-31 04:00:00+00:00      537642  298.744183  111.30  111.590  111.070   \n",
       "2019-08-01 04:00:00+00:00      771413  296.650886  111.34  111.950  111.260   \n",
       "2019-08-02 04:00:00+00:00      552082  292.544668  111.93  112.040  111.820   \n",
       "...                               ...         ...     ...      ...      ...   \n",
       "2022-07-25 04:00:00+00:00      437463  395.047557  102.90  103.090  102.870   \n",
       "2022-07-26 04:00:00+00:00      436591  391.857608  103.44  103.510  102.960   \n",
       "2022-07-27 04:00:00+00:00      587430  398.307462  103.19  103.640  103.180   \n",
       "2022-07-28 04:00:00+00:00      570079  403.644305  104.09  104.205  103.835   \n",
       "2022-07-29 04:00:00+00:00      544810  410.668581  103.94  104.395  103.830   \n",
       "\n",
       "                                                                     \n",
       "                            close    volume trade_count        vwap  \n",
       "timestamp                                                            \n",
       "2019-07-29 04:00:00+00:00  111.26   4667109        9067  111.287204  \n",
       "2019-07-30 04:00:00+00:00  111.25   2409278        9125  111.240710  \n",
       "2019-07-31 04:00:00+00:00  111.30  12972717       17896  111.389988  \n",
       "2019-08-01 04:00:00+00:00  111.91   5709211       22712  111.700343  \n",
       "2019-08-02 04:00:00+00:00  111.95   3293739       16662  111.917417  \n",
       "...                           ...       ...         ...         ...  \n",
       "2022-07-25 04:00:00+00:00  102.98   3577227       15169  102.964903  \n",
       "2022-07-26 04:00:00+00:00  102.96   6203148       17921  103.179189  \n",
       "2022-07-27 04:00:00+00:00  103.32   5098243       18390  103.358408  \n",
       "2022-07-28 04:00:00+00:00  104.06   6473834       23665  104.024178  \n",
       "2022-07-29 04:00:00+00:00  104.07   6523118       22800  104.156714  \n",
       "\n",
       "[758 rows x 14 columns]"
      ]
     },
     "execution_count": 29,
     "metadata": {},
     "output_type": "execute_result"
    }
   ],
   "source": [
    "# Use the Alpaca get_bars function to make the API call to get the 3 years worth of pricing data\n",
    "# The tickers and timeframe parameters should have been set in Part 1 of this activity \n",
    "# The start and end dates should be updated with the information set above\n",
    "# Remember to add the df property to the end of the call so the response is returned as a DataFrame\n",
    "stock_bond_prices_3y_df = alpaca.get_bars(\n",
    "    tickers, \n",
    "    timeframe,\n",
    "    start = start_date_3y,\n",
    "    end = end_date_3y\n",
    ").df\n",
    "\n",
    "# Display Price Dataframe for Data Validation\n",
    "stock_bond_prices_3y_df\n",
    "\n",
    "# Reorganize the DataFrame\n",
    "# Separate ticker data\n",
    "SPY = stock_bond_prices_3y_df[stock_bond_prices_3y_df['symbol']=='SPY'].drop('symbol', axis=1)\n",
    "AGG = stock_bond_prices_3y_df[stock_bond_prices_3y_df['symbol']=='AGG'].drop('symbol', axis=1)\n",
    "\n",
    "# Concatenate the ticker DataFrames\n",
    "stock_bond_prices_3y_df = pd.concat([SPY, AGG], axis=1, keys = ['SPY', 'AGG'])\n",
    "\n",
    "# Display both the first and last five rows of the DataFrame\n",
    "stock_bond_prices_3y_df\n"
   ]
  },
  {
   "cell_type": "markdown",
   "metadata": {},
   "source": [
    "#### Step 2: Run a Monte Carlo simulation of 500 samples and 30 years for the 60/40 portfolio, and then plot the results."
   ]
  },
  {
   "cell_type": "code",
   "execution_count": 31,
   "metadata": {},
   "outputs": [
    {
     "data": {
      "text/html": [
       "<div>\n",
       "<style scoped>\n",
       "    .dataframe tbody tr th:only-of-type {\n",
       "        vertical-align: middle;\n",
       "    }\n",
       "\n",
       "    .dataframe tbody tr th {\n",
       "        vertical-align: top;\n",
       "    }\n",
       "\n",
       "    .dataframe thead tr th {\n",
       "        text-align: left;\n",
       "    }\n",
       "\n",
       "    .dataframe thead tr:last-of-type th {\n",
       "        text-align: right;\n",
       "    }\n",
       "</style>\n",
       "<table border=\"1\" class=\"dataframe\">\n",
       "  <thead>\n",
       "    <tr>\n",
       "      <th></th>\n",
       "      <th colspan=\"8\" halign=\"left\">SPY</th>\n",
       "      <th colspan=\"8\" halign=\"left\">AGG</th>\n",
       "    </tr>\n",
       "    <tr>\n",
       "      <th></th>\n",
       "      <th>open</th>\n",
       "      <th>high</th>\n",
       "      <th>low</th>\n",
       "      <th>close</th>\n",
       "      <th>volume</th>\n",
       "      <th>trade_count</th>\n",
       "      <th>vwap</th>\n",
       "      <th>daily_return</th>\n",
       "      <th>open</th>\n",
       "      <th>high</th>\n",
       "      <th>low</th>\n",
       "      <th>close</th>\n",
       "      <th>volume</th>\n",
       "      <th>trade_count</th>\n",
       "      <th>vwap</th>\n",
       "      <th>daily_return</th>\n",
       "    </tr>\n",
       "    <tr>\n",
       "      <th>timestamp</th>\n",
       "      <th></th>\n",
       "      <th></th>\n",
       "      <th></th>\n",
       "      <th></th>\n",
       "      <th></th>\n",
       "      <th></th>\n",
       "      <th></th>\n",
       "      <th></th>\n",
       "      <th></th>\n",
       "      <th></th>\n",
       "      <th></th>\n",
       "      <th></th>\n",
       "      <th></th>\n",
       "      <th></th>\n",
       "      <th></th>\n",
       "      <th></th>\n",
       "    </tr>\n",
       "  </thead>\n",
       "  <tbody>\n",
       "    <tr>\n",
       "      <th>2019-07-29 04:00:00+00:00</th>\n",
       "      <td>301.85</td>\n",
       "      <td>302.01</td>\n",
       "      <td>300.85</td>\n",
       "      <td>301.46</td>\n",
       "      <td>38182966</td>\n",
       "      <td>185789</td>\n",
       "      <td>301.477510</td>\n",
       "      <td>NaN</td>\n",
       "      <td>111.30</td>\n",
       "      <td>111.35</td>\n",
       "      <td>111.22</td>\n",
       "      <td>111.26</td>\n",
       "      <td>4667109</td>\n",
       "      <td>9067</td>\n",
       "      <td>111.287204</td>\n",
       "      <td>NaN</td>\n",
       "    </tr>\n",
       "    <tr>\n",
       "      <th>2019-07-30 04:00:00+00:00</th>\n",
       "      <td>299.90</td>\n",
       "      <td>301.17</td>\n",
       "      <td>299.49</td>\n",
       "      <td>300.72</td>\n",
       "      <td>46360267</td>\n",
       "      <td>208893</td>\n",
       "      <td>300.597002</td>\n",
       "      <td>-0.002455</td>\n",
       "      <td>111.27</td>\n",
       "      <td>111.33</td>\n",
       "      <td>111.16</td>\n",
       "      <td>111.25</td>\n",
       "      <td>2409278</td>\n",
       "      <td>9125</td>\n",
       "      <td>111.240710</td>\n",
       "      <td>-0.000090</td>\n",
       "    </tr>\n",
       "    <tr>\n",
       "      <th>2019-07-31 04:00:00+00:00</th>\n",
       "      <td>300.98</td>\n",
       "      <td>301.20</td>\n",
       "      <td>295.20</td>\n",
       "      <td>297.43</td>\n",
       "      <td>104971212</td>\n",
       "      <td>537642</td>\n",
       "      <td>298.744183</td>\n",
       "      <td>-0.010940</td>\n",
       "      <td>111.30</td>\n",
       "      <td>111.59</td>\n",
       "      <td>111.07</td>\n",
       "      <td>111.30</td>\n",
       "      <td>12972717</td>\n",
       "      <td>17896</td>\n",
       "      <td>111.389988</td>\n",
       "      <td>0.000449</td>\n",
       "    </tr>\n",
       "    <tr>\n",
       "      <th>2019-08-01 04:00:00+00:00</th>\n",
       "      <td>297.56</td>\n",
       "      <td>300.87</td>\n",
       "      <td>293.96</td>\n",
       "      <td>294.84</td>\n",
       "      <td>142653060</td>\n",
       "      <td>771413</td>\n",
       "      <td>296.650886</td>\n",
       "      <td>-0.008708</td>\n",
       "      <td>111.34</td>\n",
       "      <td>111.95</td>\n",
       "      <td>111.26</td>\n",
       "      <td>111.91</td>\n",
       "      <td>5709211</td>\n",
       "      <td>22712</td>\n",
       "      <td>111.700343</td>\n",
       "      <td>0.005481</td>\n",
       "    </tr>\n",
       "    <tr>\n",
       "      <th>2019-08-02 04:00:00+00:00</th>\n",
       "      <td>293.86</td>\n",
       "      <td>294.12</td>\n",
       "      <td>290.90</td>\n",
       "      <td>292.62</td>\n",
       "      <td>118248370</td>\n",
       "      <td>552082</td>\n",
       "      <td>292.544668</td>\n",
       "      <td>-0.007530</td>\n",
       "      <td>111.93</td>\n",
       "      <td>112.04</td>\n",
       "      <td>111.82</td>\n",
       "      <td>111.95</td>\n",
       "      <td>3293739</td>\n",
       "      <td>16662</td>\n",
       "      <td>111.917417</td>\n",
       "      <td>0.000357</td>\n",
       "    </tr>\n",
       "  </tbody>\n",
       "</table>\n",
       "</div>"
      ],
      "text/plain": [
       "                              SPY                                     \\\n",
       "                             open    high     low   close     volume   \n",
       "timestamp                                                              \n",
       "2019-07-29 04:00:00+00:00  301.85  302.01  300.85  301.46   38182966   \n",
       "2019-07-30 04:00:00+00:00  299.90  301.17  299.49  300.72   46360267   \n",
       "2019-07-31 04:00:00+00:00  300.98  301.20  295.20  297.43  104971212   \n",
       "2019-08-01 04:00:00+00:00  297.56  300.87  293.96  294.84  142653060   \n",
       "2019-08-02 04:00:00+00:00  293.86  294.12  290.90  292.62  118248370   \n",
       "\n",
       "                                                                   AGG  \\\n",
       "                          trade_count        vwap daily_return    open   \n",
       "timestamp                                                                \n",
       "2019-07-29 04:00:00+00:00      185789  301.477510          NaN  111.30   \n",
       "2019-07-30 04:00:00+00:00      208893  300.597002    -0.002455  111.27   \n",
       "2019-07-31 04:00:00+00:00      537642  298.744183    -0.010940  111.30   \n",
       "2019-08-01 04:00:00+00:00      771413  296.650886    -0.008708  111.34   \n",
       "2019-08-02 04:00:00+00:00      552082  292.544668    -0.007530  111.93   \n",
       "\n",
       "                                                                         \\\n",
       "                             high     low   close    volume trade_count   \n",
       "timestamp                                                                 \n",
       "2019-07-29 04:00:00+00:00  111.35  111.22  111.26   4667109        9067   \n",
       "2019-07-30 04:00:00+00:00  111.33  111.16  111.25   2409278        9125   \n",
       "2019-07-31 04:00:00+00:00  111.59  111.07  111.30  12972717       17896   \n",
       "2019-08-01 04:00:00+00:00  111.95  111.26  111.91   5709211       22712   \n",
       "2019-08-02 04:00:00+00:00  112.04  111.82  111.95   3293739       16662   \n",
       "\n",
       "                                                    \n",
       "                                 vwap daily_return  \n",
       "timestamp                                           \n",
       "2019-07-29 04:00:00+00:00  111.287204          NaN  \n",
       "2019-07-30 04:00:00+00:00  111.240710    -0.000090  \n",
       "2019-07-31 04:00:00+00:00  111.389988     0.000449  \n",
       "2019-08-01 04:00:00+00:00  111.700343     0.005481  \n",
       "2019-08-02 04:00:00+00:00  111.917417     0.000357  "
      ]
     },
     "execution_count": 31,
     "metadata": {},
     "output_type": "execute_result"
    }
   ],
   "source": [
    "# Configure the Monte Carlo simulation to forecast 30 years cumulative returns\n",
    "# The weights should be split 40% to AGG and 60% to SPY.\n",
    "# Run 500 samples.\n",
    "mc_stock_bond = MCSimulation(\n",
    "    portfolio_data = stock_bond_prices_3y_df,\n",
    "    weights = [.6, .4],\n",
    "    num_simulation = 500,\n",
    "    num_trading_days = 252*30\n",
    ")\n",
    "\n",
    "# Review the simulation input data\n",
    "mc_stock_bond.portfolio_data.head()\n"
   ]
  },
  {
   "cell_type": "code",
   "execution_count": 32,
   "metadata": {},
   "outputs": [
    {
     "name": "stdout",
     "output_type": "stream",
     "text": [
      "Running Monte Carlo simulation number 0.\n",
      "Running Monte Carlo simulation number 10.\n",
      "Running Monte Carlo simulation number 20.\n",
      "Running Monte Carlo simulation number 30.\n",
      "Running Monte Carlo simulation number 40.\n",
      "Running Monte Carlo simulation number 50.\n",
      "Running Monte Carlo simulation number 60.\n",
      "Running Monte Carlo simulation number 70.\n",
      "Running Monte Carlo simulation number 80.\n",
      "Running Monte Carlo simulation number 90.\n",
      "Running Monte Carlo simulation number 100.\n"
     ]
    },
    {
     "name": "stderr",
     "output_type": "stream",
     "text": [
      "/Users/tannerfranklin/Desktop/FinTechWorkspace/M5_FinancialSimulations/Starter_Code/MCForecastTools.py:117: PerformanceWarning: DataFrame is highly fragmented.  This is usually the result of calling `frame.insert` many times, which has poor performance.  Consider joining all columns at once using pd.concat(axis=1) instead.  To get a de-fragmented frame, use `newframe = frame.copy()`\n",
      "  portfolio_cumulative_returns[n] = (1 + sim_df.fillna(0)).cumprod()\n"
     ]
    },
    {
     "name": "stdout",
     "output_type": "stream",
     "text": [
      "Running Monte Carlo simulation number 110.\n",
      "Running Monte Carlo simulation number 120.\n",
      "Running Monte Carlo simulation number 130.\n",
      "Running Monte Carlo simulation number 140.\n",
      "Running Monte Carlo simulation number 150.\n",
      "Running Monte Carlo simulation number 160.\n",
      "Running Monte Carlo simulation number 170.\n",
      "Running Monte Carlo simulation number 180.\n",
      "Running Monte Carlo simulation number 190.\n",
      "Running Monte Carlo simulation number 200.\n",
      "Running Monte Carlo simulation number 210.\n",
      "Running Monte Carlo simulation number 220.\n",
      "Running Monte Carlo simulation number 230.\n",
      "Running Monte Carlo simulation number 240.\n",
      "Running Monte Carlo simulation number 250.\n",
      "Running Monte Carlo simulation number 260.\n",
      "Running Monte Carlo simulation number 270.\n",
      "Running Monte Carlo simulation number 280.\n",
      "Running Monte Carlo simulation number 290.\n",
      "Running Monte Carlo simulation number 300.\n",
      "Running Monte Carlo simulation number 310.\n",
      "Running Monte Carlo simulation number 320.\n",
      "Running Monte Carlo simulation number 330.\n",
      "Running Monte Carlo simulation number 340.\n",
      "Running Monte Carlo simulation number 350.\n",
      "Running Monte Carlo simulation number 360.\n",
      "Running Monte Carlo simulation number 370.\n",
      "Running Monte Carlo simulation number 380.\n",
      "Running Monte Carlo simulation number 390.\n",
      "Running Monte Carlo simulation number 400.\n",
      "Running Monte Carlo simulation number 410.\n",
      "Running Monte Carlo simulation number 420.\n",
      "Running Monte Carlo simulation number 430.\n",
      "Running Monte Carlo simulation number 440.\n",
      "Running Monte Carlo simulation number 450.\n",
      "Running Monte Carlo simulation number 460.\n",
      "Running Monte Carlo simulation number 470.\n",
      "Running Monte Carlo simulation number 480.\n",
      "Running Monte Carlo simulation number 490.\n"
     ]
    },
    {
     "data": {
      "text/html": [
       "<div>\n",
       "<style scoped>\n",
       "    .dataframe tbody tr th:only-of-type {\n",
       "        vertical-align: middle;\n",
       "    }\n",
       "\n",
       "    .dataframe tbody tr th {\n",
       "        vertical-align: top;\n",
       "    }\n",
       "\n",
       "    .dataframe thead th {\n",
       "        text-align: right;\n",
       "    }\n",
       "</style>\n",
       "<table border=\"1\" class=\"dataframe\">\n",
       "  <thead>\n",
       "    <tr style=\"text-align: right;\">\n",
       "      <th></th>\n",
       "      <th>0</th>\n",
       "      <th>1</th>\n",
       "      <th>2</th>\n",
       "      <th>3</th>\n",
       "      <th>4</th>\n",
       "      <th>5</th>\n",
       "      <th>6</th>\n",
       "      <th>7</th>\n",
       "      <th>8</th>\n",
       "      <th>9</th>\n",
       "      <th>...</th>\n",
       "      <th>490</th>\n",
       "      <th>491</th>\n",
       "      <th>492</th>\n",
       "      <th>493</th>\n",
       "      <th>494</th>\n",
       "      <th>495</th>\n",
       "      <th>496</th>\n",
       "      <th>497</th>\n",
       "      <th>498</th>\n",
       "      <th>499</th>\n",
       "    </tr>\n",
       "  </thead>\n",
       "  <tbody>\n",
       "    <tr>\n",
       "      <th>0</th>\n",
       "      <td>1.000000</td>\n",
       "      <td>1.000000</td>\n",
       "      <td>1.000000</td>\n",
       "      <td>1.000000</td>\n",
       "      <td>1.000000</td>\n",
       "      <td>1.000000</td>\n",
       "      <td>1.000000</td>\n",
       "      <td>1.000000</td>\n",
       "      <td>1.000000</td>\n",
       "      <td>1.000000</td>\n",
       "      <td>...</td>\n",
       "      <td>1.000000</td>\n",
       "      <td>1.000000</td>\n",
       "      <td>1.000000</td>\n",
       "      <td>1.000000</td>\n",
       "      <td>1.000000</td>\n",
       "      <td>1.000000</td>\n",
       "      <td>1.000000</td>\n",
       "      <td>1.000000</td>\n",
       "      <td>1.000000</td>\n",
       "      <td>1.000000</td>\n",
       "    </tr>\n",
       "    <tr>\n",
       "      <th>1</th>\n",
       "      <td>1.001024</td>\n",
       "      <td>0.972614</td>\n",
       "      <td>0.996166</td>\n",
       "      <td>0.992546</td>\n",
       "      <td>0.991941</td>\n",
       "      <td>0.994007</td>\n",
       "      <td>1.013360</td>\n",
       "      <td>1.000870</td>\n",
       "      <td>1.017108</td>\n",
       "      <td>1.008523</td>\n",
       "      <td>...</td>\n",
       "      <td>0.999917</td>\n",
       "      <td>0.971266</td>\n",
       "      <td>0.997466</td>\n",
       "      <td>0.985861</td>\n",
       "      <td>1.008351</td>\n",
       "      <td>1.000814</td>\n",
       "      <td>0.991889</td>\n",
       "      <td>1.000740</td>\n",
       "      <td>0.991914</td>\n",
       "      <td>0.992259</td>\n",
       "    </tr>\n",
       "    <tr>\n",
       "      <th>2</th>\n",
       "      <td>1.005750</td>\n",
       "      <td>0.989735</td>\n",
       "      <td>0.984179</td>\n",
       "      <td>0.982434</td>\n",
       "      <td>1.006825</td>\n",
       "      <td>0.991977</td>\n",
       "      <td>1.017920</td>\n",
       "      <td>0.997531</td>\n",
       "      <td>1.027262</td>\n",
       "      <td>1.007854</td>\n",
       "      <td>...</td>\n",
       "      <td>0.967803</td>\n",
       "      <td>0.964946</td>\n",
       "      <td>1.001099</td>\n",
       "      <td>0.966002</td>\n",
       "      <td>1.018058</td>\n",
       "      <td>1.006868</td>\n",
       "      <td>0.993170</td>\n",
       "      <td>0.996927</td>\n",
       "      <td>0.997534</td>\n",
       "      <td>0.990636</td>\n",
       "    </tr>\n",
       "    <tr>\n",
       "      <th>3</th>\n",
       "      <td>0.998119</td>\n",
       "      <td>1.000060</td>\n",
       "      <td>0.989300</td>\n",
       "      <td>0.981935</td>\n",
       "      <td>1.011315</td>\n",
       "      <td>1.001175</td>\n",
       "      <td>1.021880</td>\n",
       "      <td>0.983185</td>\n",
       "      <td>1.050372</td>\n",
       "      <td>1.009514</td>\n",
       "      <td>...</td>\n",
       "      <td>0.980076</td>\n",
       "      <td>0.963161</td>\n",
       "      <td>1.012142</td>\n",
       "      <td>0.964538</td>\n",
       "      <td>1.018985</td>\n",
       "      <td>1.014939</td>\n",
       "      <td>1.012220</td>\n",
       "      <td>0.990124</td>\n",
       "      <td>0.988086</td>\n",
       "      <td>0.981284</td>\n",
       "    </tr>\n",
       "    <tr>\n",
       "      <th>4</th>\n",
       "      <td>0.992227</td>\n",
       "      <td>0.990548</td>\n",
       "      <td>0.998289</td>\n",
       "      <td>0.966553</td>\n",
       "      <td>1.011071</td>\n",
       "      <td>1.002413</td>\n",
       "      <td>1.014660</td>\n",
       "      <td>0.967502</td>\n",
       "      <td>1.038411</td>\n",
       "      <td>1.005255</td>\n",
       "      <td>...</td>\n",
       "      <td>0.959313</td>\n",
       "      <td>0.963898</td>\n",
       "      <td>1.037831</td>\n",
       "      <td>0.972701</td>\n",
       "      <td>1.019174</td>\n",
       "      <td>1.019186</td>\n",
       "      <td>1.013624</td>\n",
       "      <td>0.997628</td>\n",
       "      <td>0.998547</td>\n",
       "      <td>0.992971</td>\n",
       "    </tr>\n",
       "    <tr>\n",
       "      <th>...</th>\n",
       "      <td>...</td>\n",
       "      <td>...</td>\n",
       "      <td>...</td>\n",
       "      <td>...</td>\n",
       "      <td>...</td>\n",
       "      <td>...</td>\n",
       "      <td>...</td>\n",
       "      <td>...</td>\n",
       "      <td>...</td>\n",
       "      <td>...</td>\n",
       "      <td>...</td>\n",
       "      <td>...</td>\n",
       "      <td>...</td>\n",
       "      <td>...</td>\n",
       "      <td>...</td>\n",
       "      <td>...</td>\n",
       "      <td>...</td>\n",
       "      <td>...</td>\n",
       "      <td>...</td>\n",
       "      <td>...</td>\n",
       "      <td>...</td>\n",
       "    </tr>\n",
       "    <tr>\n",
       "      <th>7556</th>\n",
       "      <td>2.666512</td>\n",
       "      <td>5.412312</td>\n",
       "      <td>4.044305</td>\n",
       "      <td>2.945498</td>\n",
       "      <td>12.301091</td>\n",
       "      <td>12.076495</td>\n",
       "      <td>4.726302</td>\n",
       "      <td>3.268349</td>\n",
       "      <td>11.184762</td>\n",
       "      <td>3.980518</td>\n",
       "      <td>...</td>\n",
       "      <td>6.201418</td>\n",
       "      <td>7.385993</td>\n",
       "      <td>7.964127</td>\n",
       "      <td>2.353045</td>\n",
       "      <td>5.283073</td>\n",
       "      <td>9.584885</td>\n",
       "      <td>4.011167</td>\n",
       "      <td>7.690262</td>\n",
       "      <td>25.983648</td>\n",
       "      <td>10.129416</td>\n",
       "    </tr>\n",
       "    <tr>\n",
       "      <th>7557</th>\n",
       "      <td>2.666127</td>\n",
       "      <td>5.347527</td>\n",
       "      <td>4.073521</td>\n",
       "      <td>2.969631</td>\n",
       "      <td>12.482542</td>\n",
       "      <td>12.120731</td>\n",
       "      <td>4.730983</td>\n",
       "      <td>3.290658</td>\n",
       "      <td>11.291650</td>\n",
       "      <td>3.940032</td>\n",
       "      <td>...</td>\n",
       "      <td>6.182016</td>\n",
       "      <td>7.327843</td>\n",
       "      <td>8.090137</td>\n",
       "      <td>2.333197</td>\n",
       "      <td>5.270348</td>\n",
       "      <td>9.544328</td>\n",
       "      <td>3.970234</td>\n",
       "      <td>7.824255</td>\n",
       "      <td>26.115923</td>\n",
       "      <td>10.168484</td>\n",
       "    </tr>\n",
       "    <tr>\n",
       "      <th>7558</th>\n",
       "      <td>2.669195</td>\n",
       "      <td>5.388341</td>\n",
       "      <td>4.030083</td>\n",
       "      <td>2.971767</td>\n",
       "      <td>12.371159</td>\n",
       "      <td>11.931227</td>\n",
       "      <td>4.693980</td>\n",
       "      <td>3.299862</td>\n",
       "      <td>11.292486</td>\n",
       "      <td>3.989226</td>\n",
       "      <td>...</td>\n",
       "      <td>6.187735</td>\n",
       "      <td>7.363576</td>\n",
       "      <td>8.018363</td>\n",
       "      <td>2.312099</td>\n",
       "      <td>5.285203</td>\n",
       "      <td>9.460773</td>\n",
       "      <td>3.995068</td>\n",
       "      <td>7.901999</td>\n",
       "      <td>26.086787</td>\n",
       "      <td>10.146580</td>\n",
       "    </tr>\n",
       "    <tr>\n",
       "      <th>7559</th>\n",
       "      <td>2.705248</td>\n",
       "      <td>5.402378</td>\n",
       "      <td>4.032051</td>\n",
       "      <td>2.970785</td>\n",
       "      <td>12.232282</td>\n",
       "      <td>11.997671</td>\n",
       "      <td>4.774317</td>\n",
       "      <td>3.321280</td>\n",
       "      <td>11.215458</td>\n",
       "      <td>3.954085</td>\n",
       "      <td>...</td>\n",
       "      <td>6.191833</td>\n",
       "      <td>7.457220</td>\n",
       "      <td>8.130484</td>\n",
       "      <td>2.315267</td>\n",
       "      <td>5.329521</td>\n",
       "      <td>9.559488</td>\n",
       "      <td>4.008978</td>\n",
       "      <td>7.924959</td>\n",
       "      <td>26.133084</td>\n",
       "      <td>10.110466</td>\n",
       "    </tr>\n",
       "    <tr>\n",
       "      <th>7560</th>\n",
       "      <td>2.703477</td>\n",
       "      <td>5.364522</td>\n",
       "      <td>4.028091</td>\n",
       "      <td>2.985551</td>\n",
       "      <td>12.212111</td>\n",
       "      <td>11.911726</td>\n",
       "      <td>4.737620</td>\n",
       "      <td>3.329100</td>\n",
       "      <td>11.078397</td>\n",
       "      <td>3.969870</td>\n",
       "      <td>...</td>\n",
       "      <td>6.249769</td>\n",
       "      <td>7.521434</td>\n",
       "      <td>8.133854</td>\n",
       "      <td>2.292044</td>\n",
       "      <td>5.230300</td>\n",
       "      <td>9.539413</td>\n",
       "      <td>3.988496</td>\n",
       "      <td>8.037651</td>\n",
       "      <td>25.459854</td>\n",
       "      <td>10.097997</td>\n",
       "    </tr>\n",
       "  </tbody>\n",
       "</table>\n",
       "<p>7561 rows × 500 columns</p>\n",
       "</div>"
      ],
      "text/plain": [
       "           0         1         2         3          4          5         6    \\\n",
       "0     1.000000  1.000000  1.000000  1.000000   1.000000   1.000000  1.000000   \n",
       "1     1.001024  0.972614  0.996166  0.992546   0.991941   0.994007  1.013360   \n",
       "2     1.005750  0.989735  0.984179  0.982434   1.006825   0.991977  1.017920   \n",
       "3     0.998119  1.000060  0.989300  0.981935   1.011315   1.001175  1.021880   \n",
       "4     0.992227  0.990548  0.998289  0.966553   1.011071   1.002413  1.014660   \n",
       "...        ...       ...       ...       ...        ...        ...       ...   \n",
       "7556  2.666512  5.412312  4.044305  2.945498  12.301091  12.076495  4.726302   \n",
       "7557  2.666127  5.347527  4.073521  2.969631  12.482542  12.120731  4.730983   \n",
       "7558  2.669195  5.388341  4.030083  2.971767  12.371159  11.931227  4.693980   \n",
       "7559  2.705248  5.402378  4.032051  2.970785  12.232282  11.997671  4.774317   \n",
       "7560  2.703477  5.364522  4.028091  2.985551  12.212111  11.911726  4.737620   \n",
       "\n",
       "           7          8         9    ...       490       491       492  \\\n",
       "0     1.000000   1.000000  1.000000  ...  1.000000  1.000000  1.000000   \n",
       "1     1.000870   1.017108  1.008523  ...  0.999917  0.971266  0.997466   \n",
       "2     0.997531   1.027262  1.007854  ...  0.967803  0.964946  1.001099   \n",
       "3     0.983185   1.050372  1.009514  ...  0.980076  0.963161  1.012142   \n",
       "4     0.967502   1.038411  1.005255  ...  0.959313  0.963898  1.037831   \n",
       "...        ...        ...       ...  ...       ...       ...       ...   \n",
       "7556  3.268349  11.184762  3.980518  ...  6.201418  7.385993  7.964127   \n",
       "7557  3.290658  11.291650  3.940032  ...  6.182016  7.327843  8.090137   \n",
       "7558  3.299862  11.292486  3.989226  ...  6.187735  7.363576  8.018363   \n",
       "7559  3.321280  11.215458  3.954085  ...  6.191833  7.457220  8.130484   \n",
       "7560  3.329100  11.078397  3.969870  ...  6.249769  7.521434  8.133854   \n",
       "\n",
       "           493       494       495       496       497        498        499  \n",
       "0     1.000000  1.000000  1.000000  1.000000  1.000000   1.000000   1.000000  \n",
       "1     0.985861  1.008351  1.000814  0.991889  1.000740   0.991914   0.992259  \n",
       "2     0.966002  1.018058  1.006868  0.993170  0.996927   0.997534   0.990636  \n",
       "3     0.964538  1.018985  1.014939  1.012220  0.990124   0.988086   0.981284  \n",
       "4     0.972701  1.019174  1.019186  1.013624  0.997628   0.998547   0.992971  \n",
       "...        ...       ...       ...       ...       ...        ...        ...  \n",
       "7556  2.353045  5.283073  9.584885  4.011167  7.690262  25.983648  10.129416  \n",
       "7557  2.333197  5.270348  9.544328  3.970234  7.824255  26.115923  10.168484  \n",
       "7558  2.312099  5.285203  9.460773  3.995068  7.901999  26.086787  10.146580  \n",
       "7559  2.315267  5.329521  9.559488  4.008978  7.924959  26.133084  10.110466  \n",
       "7560  2.292044  5.230300  9.539413  3.988496  8.037651  25.459854  10.097997  \n",
       "\n",
       "[7561 rows x 500 columns]"
      ]
     },
     "execution_count": 32,
     "metadata": {},
     "output_type": "execute_result"
    }
   ],
   "source": [
    "# Run the Monte Carlo simulation to forecast 30 years cumulative returns\n",
    "mc_stock_bond.calc_cumulative_return()\n"
   ]
  },
  {
   "cell_type": "code",
   "execution_count": 33,
   "metadata": {},
   "outputs": [
    {
     "data": {
      "image/png": "[encoded data removed]",
      "text/plain": [
       "<Figure size 432x288 with 1 Axes>"
      ]
     },
     "metadata": {
      "needs_background": "light"
     },
     "output_type": "display_data"
    }
   ],
   "source": [
    "# Visualize the 30-year Monte Carlo simulation by creating an\n",
    "# overlay line plot\n",
    "mc_stock_bond_sim_plot = mc_stock_bond.plot_simulation()\n"
   ]
  },
  {
   "cell_type": "markdown",
   "metadata": {},
   "source": [
    "#### Step 3: Plot the probability distribution of the Monte Carlo simulation."
   ]
  },
  {
   "cell_type": "code",
   "execution_count": 34,
   "metadata": {},
   "outputs": [
    {
     "data": {
      "image/png": "[encoded data removed]",
      "text/plain": [
       "<Figure size 432x288 with 1 Axes>"
      ]
     },
     "metadata": {
      "needs_background": "light"
     },
     "output_type": "display_data"
    }
   ],
   "source": [
    "# Visualize the probability distribution of the 30-year Monte Carlo simulation \n",
    "# by plotting a histogram\n",
    "mc_stock_bond_hist_plot = mc_stock_bond.plot_distribution()\n"
   ]
  },
  {
   "cell_type": "markdown",
   "metadata": {},
   "source": [
    "#### Step 4: Generate the summary statistics for the Monte Carlo simulation."
   ]
  },
  {
   "cell_type": "code",
   "execution_count": 35,
   "metadata": {},
   "outputs": [
    {
     "name": "stdout",
     "output_type": "stream",
     "text": [
      "count           500.000000\n",
      "mean              8.486179\n",
      "std               9.294765\n",
      "min               0.540336\n",
      "25%               3.502368\n",
      "50%               5.985235\n",
      "75%              10.171186\n",
      "max              93.414806\n",
      "95% CI Lower      1.493210\n",
      "95% CI Upper     27.710807\n",
      "Name: 7560, dtype: float64\n"
     ]
    }
   ],
   "source": [
    "# Generate summary statistics from the 30-year Monte Carlo simulation results\n",
    "# Save the results as a variable\n",
    "mc_stock_bond_sim_results = mc_stock_bond.summarize_cumulative_return()\n",
    "\n",
    "\n",
    "# Review the 30-year Monte Carlo summary statistics\n",
    "print(mc_stock_bond_sim_results)"
   ]
  },
  {
   "cell_type": "markdown",
   "metadata": {},
   "source": [
    "### Analyze the Retirement Portfolio Forecasts\n",
    "\n",
    "Using the current value of only the stock and bond portion of the member's portfolio and the summary statistics that you generated from the Monte Carlo simulation, answer the following question in your Jupyter notebook:\n",
    "\n",
    "-  What are the lower and upper bounds for the expected value of the portfolio with a 95% confidence interval?\n"
   ]
  },
  {
   "cell_type": "code",
   "execution_count": 37,
   "metadata": {},
   "outputs": [
    {
     "name": "stdout",
     "output_type": "stream",
     "text": [
      "The current balance of the stock and bond portfolio is: $ 66132.9\n"
     ]
    }
   ],
   "source": [
    "# Print the current balance of the stock and bond portion of the members portfolio\n",
    "print(f\"The current balance of the stock and bond portfolio is: $\", total_stocks_bonds)\n"
   ]
  },
  {
   "cell_type": "code",
   "execution_count": 38,
   "metadata": {},
   "outputs": [
    {
     "name": "stdout",
     "output_type": "stream",
     "text": [
      "With a 60/40 percent split of Stocks/Bonds and an investment of $66132.9,there is a 95% chance of cumulative returns between $98750.3 and $1832596.01\n"
     ]
    }
   ],
   "source": [
    "# Use the lower and upper `95%` confidence intervals to calculate the range of the possible outcomes for the current stock/bond portfolio\n",
    "ci_lower_thirty_cumulative_return = round(mc_stock_bond_sim_results[8]*total_stocks_bonds,2)\n",
    "ci_upper_thirty_cumulative_return = round(mc_stock_bond_sim_results[9]*total_stocks_bonds,2)\n",
    "\n",
    "# Print the result of your calculations\n",
    "print(f\"With a 60/40 percent split of Stocks/Bonds and an investment of ${total_stocks_bonds},\"\n",
    "      f\"there is a 95% chance of cumulative returns between ${ci_lower_thirty_cumulative_return} and ${ci_upper_thirty_cumulative_return}\"\n",
    ")"
   ]
  },
  {
   "cell_type": "markdown",
   "metadata": {},
   "source": [
    "### Forecast Cumulative Returns in 10 Years\n",
    "\n",
    "The CTO of the credit union is impressed with your work on these planning tools but wonders if 30 years is a long time to wait until retirement. So, your next task is to adjust the retirement portfolio and run a new Monte Carlo simulation to find out if the changes will allow members to retire earlier.\n",
    "\n",
    "For this new Monte Carlo simulation, do the following: \n",
    "\n",
    "- Forecast the cumulative returns for 10 years from now. Because of the shortened investment horizon (30 years to 10 years), the portfolio needs to invest more heavily in the riskier asset&mdash;that is, stock&mdash;to help accumulate wealth for retirement. \n",
    "\n",
    "- Adjust the weights of the retirement portfolio so that the composition for the Monte Carlo simulation consists of 20% bonds and 80% stocks. \n",
    "\n",
    "- Run the simulation over 500 samples, and use the same data that the API call to Alpaca generated.\n",
    "\n",
    "- Based on the new Monte Carlo simulation, answer the following questions in your Jupyter notebook:\n",
    "\n",
    "    - Using the current value of only the stock and bond portion of the member's portfolio and the summary statistics that you generated from the new Monte Carlo simulation, what are the lower and upper bounds for the expected value of the portfolio (with the new weights) with a 95% confidence interval?\n",
    "\n",
    "    - Will weighting the portfolio more heavily toward stocks allow the credit union members to retire after only 10 years?\n"
   ]
  },
  {
   "cell_type": "code",
   "execution_count": 39,
   "metadata": {},
   "outputs": [
    {
     "data": {
      "text/html": [
       "<div>\n",
       "<style scoped>\n",
       "    .dataframe tbody tr th:only-of-type {\n",
       "        vertical-align: middle;\n",
       "    }\n",
       "\n",
       "    .dataframe tbody tr th {\n",
       "        vertical-align: top;\n",
       "    }\n",
       "\n",
       "    .dataframe thead tr th {\n",
       "        text-align: left;\n",
       "    }\n",
       "\n",
       "    .dataframe thead tr:last-of-type th {\n",
       "        text-align: right;\n",
       "    }\n",
       "</style>\n",
       "<table border=\"1\" class=\"dataframe\">\n",
       "  <thead>\n",
       "    <tr>\n",
       "      <th></th>\n",
       "      <th colspan=\"8\" halign=\"left\">SPY</th>\n",
       "      <th colspan=\"8\" halign=\"left\">AGG</th>\n",
       "    </tr>\n",
       "    <tr>\n",
       "      <th></th>\n",
       "      <th>open</th>\n",
       "      <th>high</th>\n",
       "      <th>low</th>\n",
       "      <th>close</th>\n",
       "      <th>volume</th>\n",
       "      <th>trade_count</th>\n",
       "      <th>vwap</th>\n",
       "      <th>daily_return</th>\n",
       "      <th>open</th>\n",
       "      <th>high</th>\n",
       "      <th>low</th>\n",
       "      <th>close</th>\n",
       "      <th>volume</th>\n",
       "      <th>trade_count</th>\n",
       "      <th>vwap</th>\n",
       "      <th>daily_return</th>\n",
       "    </tr>\n",
       "    <tr>\n",
       "      <th>timestamp</th>\n",
       "      <th></th>\n",
       "      <th></th>\n",
       "      <th></th>\n",
       "      <th></th>\n",
       "      <th></th>\n",
       "      <th></th>\n",
       "      <th></th>\n",
       "      <th></th>\n",
       "      <th></th>\n",
       "      <th></th>\n",
       "      <th></th>\n",
       "      <th></th>\n",
       "      <th></th>\n",
       "      <th></th>\n",
       "      <th></th>\n",
       "      <th></th>\n",
       "    </tr>\n",
       "  </thead>\n",
       "  <tbody>\n",
       "    <tr>\n",
       "      <th>2019-07-29 04:00:00+00:00</th>\n",
       "      <td>301.85</td>\n",
       "      <td>302.01</td>\n",
       "      <td>300.85</td>\n",
       "      <td>301.46</td>\n",
       "      <td>38182966</td>\n",
       "      <td>185789</td>\n",
       "      <td>301.477510</td>\n",
       "      <td>NaN</td>\n",
       "      <td>111.30</td>\n",
       "      <td>111.35</td>\n",
       "      <td>111.22</td>\n",
       "      <td>111.26</td>\n",
       "      <td>4667109</td>\n",
       "      <td>9067</td>\n",
       "      <td>111.287204</td>\n",
       "      <td>NaN</td>\n",
       "    </tr>\n",
       "    <tr>\n",
       "      <th>2019-07-30 04:00:00+00:00</th>\n",
       "      <td>299.90</td>\n",
       "      <td>301.17</td>\n",
       "      <td>299.49</td>\n",
       "      <td>300.72</td>\n",
       "      <td>46360267</td>\n",
       "      <td>208893</td>\n",
       "      <td>300.597002</td>\n",
       "      <td>-0.002455</td>\n",
       "      <td>111.27</td>\n",
       "      <td>111.33</td>\n",
       "      <td>111.16</td>\n",
       "      <td>111.25</td>\n",
       "      <td>2409278</td>\n",
       "      <td>9125</td>\n",
       "      <td>111.240710</td>\n",
       "      <td>-0.000090</td>\n",
       "    </tr>\n",
       "    <tr>\n",
       "      <th>2019-07-31 04:00:00+00:00</th>\n",
       "      <td>300.98</td>\n",
       "      <td>301.20</td>\n",
       "      <td>295.20</td>\n",
       "      <td>297.43</td>\n",
       "      <td>104971212</td>\n",
       "      <td>537642</td>\n",
       "      <td>298.744183</td>\n",
       "      <td>-0.010940</td>\n",
       "      <td>111.30</td>\n",
       "      <td>111.59</td>\n",
       "      <td>111.07</td>\n",
       "      <td>111.30</td>\n",
       "      <td>12972717</td>\n",
       "      <td>17896</td>\n",
       "      <td>111.389988</td>\n",
       "      <td>0.000449</td>\n",
       "    </tr>\n",
       "    <tr>\n",
       "      <th>2019-08-01 04:00:00+00:00</th>\n",
       "      <td>297.56</td>\n",
       "      <td>300.87</td>\n",
       "      <td>293.96</td>\n",
       "      <td>294.84</td>\n",
       "      <td>142653060</td>\n",
       "      <td>771413</td>\n",
       "      <td>296.650886</td>\n",
       "      <td>-0.008708</td>\n",
       "      <td>111.34</td>\n",
       "      <td>111.95</td>\n",
       "      <td>111.26</td>\n",
       "      <td>111.91</td>\n",
       "      <td>5709211</td>\n",
       "      <td>22712</td>\n",
       "      <td>111.700343</td>\n",
       "      <td>0.005481</td>\n",
       "    </tr>\n",
       "    <tr>\n",
       "      <th>2019-08-02 04:00:00+00:00</th>\n",
       "      <td>293.86</td>\n",
       "      <td>294.12</td>\n",
       "      <td>290.90</td>\n",
       "      <td>292.62</td>\n",
       "      <td>118248370</td>\n",
       "      <td>552082</td>\n",
       "      <td>292.544668</td>\n",
       "      <td>-0.007530</td>\n",
       "      <td>111.93</td>\n",
       "      <td>112.04</td>\n",
       "      <td>111.82</td>\n",
       "      <td>111.95</td>\n",
       "      <td>3293739</td>\n",
       "      <td>16662</td>\n",
       "      <td>111.917417</td>\n",
       "      <td>0.000357</td>\n",
       "    </tr>\n",
       "  </tbody>\n",
       "</table>\n",
       "</div>"
      ],
      "text/plain": [
       "                              SPY                                     \\\n",
       "                             open    high     low   close     volume   \n",
       "timestamp                                                              \n",
       "2019-07-29 04:00:00+00:00  301.85  302.01  300.85  301.46   38182966   \n",
       "2019-07-30 04:00:00+00:00  299.90  301.17  299.49  300.72   46360267   \n",
       "2019-07-31 04:00:00+00:00  300.98  301.20  295.20  297.43  104971212   \n",
       "2019-08-01 04:00:00+00:00  297.56  300.87  293.96  294.84  142653060   \n",
       "2019-08-02 04:00:00+00:00  293.86  294.12  290.90  292.62  118248370   \n",
       "\n",
       "                                                                   AGG  \\\n",
       "                          trade_count        vwap daily_return    open   \n",
       "timestamp                                                                \n",
       "2019-07-29 04:00:00+00:00      185789  301.477510          NaN  111.30   \n",
       "2019-07-30 04:00:00+00:00      208893  300.597002    -0.002455  111.27   \n",
       "2019-07-31 04:00:00+00:00      537642  298.744183    -0.010940  111.30   \n",
       "2019-08-01 04:00:00+00:00      771413  296.650886    -0.008708  111.34   \n",
       "2019-08-02 04:00:00+00:00      552082  292.544668    -0.007530  111.93   \n",
       "\n",
       "                                                                         \\\n",
       "                             high     low   close    volume trade_count   \n",
       "timestamp                                                                 \n",
       "2019-07-29 04:00:00+00:00  111.35  111.22  111.26   4667109        9067   \n",
       "2019-07-30 04:00:00+00:00  111.33  111.16  111.25   2409278        9125   \n",
       "2019-07-31 04:00:00+00:00  111.59  111.07  111.30  12972717       17896   \n",
       "2019-08-01 04:00:00+00:00  111.95  111.26  111.91   5709211       22712   \n",
       "2019-08-02 04:00:00+00:00  112.04  111.82  111.95   3293739       16662   \n",
       "\n",
       "                                                    \n",
       "                                 vwap daily_return  \n",
       "timestamp                                           \n",
       "2019-07-29 04:00:00+00:00  111.287204          NaN  \n",
       "2019-07-30 04:00:00+00:00  111.240710    -0.000090  \n",
       "2019-07-31 04:00:00+00:00  111.389988     0.000449  \n",
       "2019-08-01 04:00:00+00:00  111.700343     0.005481  \n",
       "2019-08-02 04:00:00+00:00  111.917417     0.000357  "
      ]
     },
     "execution_count": 39,
     "metadata": {},
     "output_type": "execute_result"
    }
   ],
   "source": [
    "# Configure a Monte Carlo simulation to forecast 10 years cumulative returns\n",
    "# The weights should be split 20% to AGG and 80% to SPY.\n",
    "# Run 500 samples.\n",
    "mc_stock_bond_short = MCSimulation(\n",
    "    portfolio_data = stock_bond_prices_3y_df,\n",
    "    weights = [.8, .2],\n",
    "    num_simulation = 500,\n",
    "    num_trading_days = 252*10\n",
    ")\n",
    "\n",
    "# Review the simulation input data\n",
    "mc_stock_bond_short.portfolio_data.head()\n"
   ]
  },
  {
   "cell_type": "code",
   "execution_count": 40,
   "metadata": {},
   "outputs": [
    {
     "name": "stdout",
     "output_type": "stream",
     "text": [
      "Running Monte Carlo simulation number 0.\n",
      "Running Monte Carlo simulation number 10.\n",
      "Running Monte Carlo simulation number 20.\n",
      "Running Monte Carlo simulation number 30.\n",
      "Running Monte Carlo simulation number 40.\n",
      "Running Monte Carlo simulation number 50.\n",
      "Running Monte Carlo simulation number 60.\n",
      "Running Monte Carlo simulation number 70.\n",
      "Running Monte Carlo simulation number 80.\n",
      "Running Monte Carlo simulation number 90.\n",
      "Running Monte Carlo simulation number 100.\n"
     ]
    },
    {
     "name": "stderr",
     "output_type": "stream",
     "text": [
      "/Users/tannerfranklin/Desktop/FinTechWorkspace/M5_FinancialSimulations/Starter_Code/MCForecastTools.py:117: PerformanceWarning: DataFrame is highly fragmented.  This is usually the result of calling `frame.insert` many times, which has poor performance.  Consider joining all columns at once using pd.concat(axis=1) instead.  To get a de-fragmented frame, use `newframe = frame.copy()`\n",
      "  portfolio_cumulative_returns[n] = (1 + sim_df.fillna(0)).cumprod()\n"
     ]
    },
    {
     "name": "stdout",
     "output_type": "stream",
     "text": [
      "Running Monte Carlo simulation number 110.\n",
      "Running Monte Carlo simulation number 120.\n",
      "Running Monte Carlo simulation number 130.\n",
      "Running Monte Carlo simulation number 140.\n",
      "Running Monte Carlo simulation number 150.\n",
      "Running Monte Carlo simulation number 160.\n",
      "Running Monte Carlo simulation number 170.\n",
      "Running Monte Carlo simulation number 180.\n",
      "Running Monte Carlo simulation number 190.\n",
      "Running Monte Carlo simulation number 200.\n",
      "Running Monte Carlo simulation number 210.\n",
      "Running Monte Carlo simulation number 220.\n",
      "Running Monte Carlo simulation number 230.\n",
      "Running Monte Carlo simulation number 240.\n",
      "Running Monte Carlo simulation number 250.\n",
      "Running Monte Carlo simulation number 260.\n",
      "Running Monte Carlo simulation number 270.\n",
      "Running Monte Carlo simulation number 280.\n",
      "Running Monte Carlo simulation number 290.\n",
      "Running Monte Carlo simulation number 300.\n",
      "Running Monte Carlo simulation number 310.\n",
      "Running Monte Carlo simulation number 320.\n",
      "Running Monte Carlo simulation number 330.\n",
      "Running Monte Carlo simulation number 340.\n",
      "Running Monte Carlo simulation number 350.\n",
      "Running Monte Carlo simulation number 360.\n",
      "Running Monte Carlo simulation number 370.\n",
      "Running Monte Carlo simulation number 380.\n",
      "Running Monte Carlo simulation number 390.\n",
      "Running Monte Carlo simulation number 400.\n",
      "Running Monte Carlo simulation number 410.\n",
      "Running Monte Carlo simulation number 420.\n",
      "Running Monte Carlo simulation number 430.\n",
      "Running Monte Carlo simulation number 440.\n",
      "Running Monte Carlo simulation number 450.\n",
      "Running Monte Carlo simulation number 460.\n",
      "Running Monte Carlo simulation number 470.\n",
      "Running Monte Carlo simulation number 480.\n",
      "Running Monte Carlo simulation number 490.\n"
     ]
    },
    {
     "data": {
      "text/html": [
       "<div>\n",
       "<style scoped>\n",
       "    .dataframe tbody tr th:only-of-type {\n",
       "        vertical-align: middle;\n",
       "    }\n",
       "\n",
       "    .dataframe tbody tr th {\n",
       "        vertical-align: top;\n",
       "    }\n",
       "\n",
       "    .dataframe thead th {\n",
       "        text-align: right;\n",
       "    }\n",
       "</style>\n",
       "<table border=\"1\" class=\"dataframe\">\n",
       "  <thead>\n",
       "    <tr style=\"text-align: right;\">\n",
       "      <th></th>\n",
       "      <th>0</th>\n",
       "      <th>1</th>\n",
       "      <th>2</th>\n",
       "      <th>3</th>\n",
       "      <th>4</th>\n",
       "      <th>5</th>\n",
       "      <th>6</th>\n",
       "      <th>7</th>\n",
       "      <th>8</th>\n",
       "      <th>9</th>\n",
       "      <th>...</th>\n",
       "      <th>490</th>\n",
       "      <th>491</th>\n",
       "      <th>492</th>\n",
       "      <th>493</th>\n",
       "      <th>494</th>\n",
       "      <th>495</th>\n",
       "      <th>496</th>\n",
       "      <th>497</th>\n",
       "      <th>498</th>\n",
       "      <th>499</th>\n",
       "    </tr>\n",
       "  </thead>\n",
       "  <tbody>\n",
       "    <tr>\n",
       "      <th>0</th>\n",
       "      <td>1.000000</td>\n",
       "      <td>1.000000</td>\n",
       "      <td>1.000000</td>\n",
       "      <td>1.000000</td>\n",
       "      <td>1.000000</td>\n",
       "      <td>1.000000</td>\n",
       "      <td>1.000000</td>\n",
       "      <td>1.000000</td>\n",
       "      <td>1.000000</td>\n",
       "      <td>1.000000</td>\n",
       "      <td>...</td>\n",
       "      <td>1.000000</td>\n",
       "      <td>1.000000</td>\n",
       "      <td>1.000000</td>\n",
       "      <td>1.000000</td>\n",
       "      <td>1.000000</td>\n",
       "      <td>1.000000</td>\n",
       "      <td>1.000000</td>\n",
       "      <td>1.000000</td>\n",
       "      <td>1.000000</td>\n",
       "      <td>1.000000</td>\n",
       "    </tr>\n",
       "    <tr>\n",
       "      <th>1</th>\n",
       "      <td>0.987497</td>\n",
       "      <td>0.991976</td>\n",
       "      <td>0.982286</td>\n",
       "      <td>1.005152</td>\n",
       "      <td>0.986597</td>\n",
       "      <td>0.998234</td>\n",
       "      <td>0.997248</td>\n",
       "      <td>0.994540</td>\n",
       "      <td>1.006353</td>\n",
       "      <td>1.014714</td>\n",
       "      <td>...</td>\n",
       "      <td>1.008231</td>\n",
       "      <td>0.984867</td>\n",
       "      <td>1.005230</td>\n",
       "      <td>0.987784</td>\n",
       "      <td>0.994605</td>\n",
       "      <td>0.997575</td>\n",
       "      <td>0.988958</td>\n",
       "      <td>1.004583</td>\n",
       "      <td>1.005497</td>\n",
       "      <td>1.004654</td>\n",
       "    </tr>\n",
       "    <tr>\n",
       "      <th>2</th>\n",
       "      <td>1.007170</td>\n",
       "      <td>0.972037</td>\n",
       "      <td>1.005567</td>\n",
       "      <td>1.001474</td>\n",
       "      <td>0.992429</td>\n",
       "      <td>1.006400</td>\n",
       "      <td>0.989309</td>\n",
       "      <td>1.012735</td>\n",
       "      <td>1.017634</td>\n",
       "      <td>1.014102</td>\n",
       "      <td>...</td>\n",
       "      <td>1.024859</td>\n",
       "      <td>0.986562</td>\n",
       "      <td>0.997344</td>\n",
       "      <td>0.986559</td>\n",
       "      <td>0.983315</td>\n",
       "      <td>0.997396</td>\n",
       "      <td>0.975796</td>\n",
       "      <td>1.017271</td>\n",
       "      <td>1.007948</td>\n",
       "      <td>1.009745</td>\n",
       "    </tr>\n",
       "    <tr>\n",
       "      <th>3</th>\n",
       "      <td>1.011367</td>\n",
       "      <td>0.985296</td>\n",
       "      <td>0.995060</td>\n",
       "      <td>0.997659</td>\n",
       "      <td>0.975194</td>\n",
       "      <td>1.007762</td>\n",
       "      <td>0.988187</td>\n",
       "      <td>1.006152</td>\n",
       "      <td>1.009244</td>\n",
       "      <td>1.020464</td>\n",
       "      <td>...</td>\n",
       "      <td>1.021546</td>\n",
       "      <td>0.995828</td>\n",
       "      <td>0.999861</td>\n",
       "      <td>0.985761</td>\n",
       "      <td>0.996591</td>\n",
       "      <td>1.002621</td>\n",
       "      <td>0.965168</td>\n",
       "      <td>1.009794</td>\n",
       "      <td>1.016864</td>\n",
       "      <td>0.997409</td>\n",
       "    </tr>\n",
       "    <tr>\n",
       "      <th>4</th>\n",
       "      <td>1.003209</td>\n",
       "      <td>0.983962</td>\n",
       "      <td>1.000220</td>\n",
       "      <td>0.994383</td>\n",
       "      <td>0.977518</td>\n",
       "      <td>1.001776</td>\n",
       "      <td>0.997592</td>\n",
       "      <td>1.008283</td>\n",
       "      <td>1.013411</td>\n",
       "      <td>1.022156</td>\n",
       "      <td>...</td>\n",
       "      <td>1.009756</td>\n",
       "      <td>0.998873</td>\n",
       "      <td>1.010566</td>\n",
       "      <td>0.992281</td>\n",
       "      <td>1.009744</td>\n",
       "      <td>0.997047</td>\n",
       "      <td>0.969588</td>\n",
       "      <td>1.021789</td>\n",
       "      <td>1.016440</td>\n",
       "      <td>0.998571</td>\n",
       "    </tr>\n",
       "    <tr>\n",
       "      <th>...</th>\n",
       "      <td>...</td>\n",
       "      <td>...</td>\n",
       "      <td>...</td>\n",
       "      <td>...</td>\n",
       "      <td>...</td>\n",
       "      <td>...</td>\n",
       "      <td>...</td>\n",
       "      <td>...</td>\n",
       "      <td>...</td>\n",
       "      <td>...</td>\n",
       "      <td>...</td>\n",
       "      <td>...</td>\n",
       "      <td>...</td>\n",
       "      <td>...</td>\n",
       "      <td>...</td>\n",
       "      <td>...</td>\n",
       "      <td>...</td>\n",
       "      <td>...</td>\n",
       "      <td>...</td>\n",
       "      <td>...</td>\n",
       "      <td>...</td>\n",
       "    </tr>\n",
       "    <tr>\n",
       "      <th>2516</th>\n",
       "      <td>4.761349</td>\n",
       "      <td>1.269094</td>\n",
       "      <td>3.571683</td>\n",
       "      <td>3.158151</td>\n",
       "      <td>1.015223</td>\n",
       "      <td>4.830819</td>\n",
       "      <td>1.253760</td>\n",
       "      <td>1.014061</td>\n",
       "      <td>2.809735</td>\n",
       "      <td>4.516351</td>\n",
       "      <td>...</td>\n",
       "      <td>2.089321</td>\n",
       "      <td>2.404847</td>\n",
       "      <td>2.624049</td>\n",
       "      <td>4.321493</td>\n",
       "      <td>3.430939</td>\n",
       "      <td>8.035439</td>\n",
       "      <td>1.597480</td>\n",
       "      <td>2.183633</td>\n",
       "      <td>1.617050</td>\n",
       "      <td>0.979589</td>\n",
       "    </tr>\n",
       "    <tr>\n",
       "      <th>2517</th>\n",
       "      <td>4.811508</td>\n",
       "      <td>1.298534</td>\n",
       "      <td>3.616535</td>\n",
       "      <td>3.146019</td>\n",
       "      <td>1.009165</td>\n",
       "      <td>4.829441</td>\n",
       "      <td>1.252787</td>\n",
       "      <td>1.037182</td>\n",
       "      <td>2.839724</td>\n",
       "      <td>4.495386</td>\n",
       "      <td>...</td>\n",
       "      <td>2.082580</td>\n",
       "      <td>2.420380</td>\n",
       "      <td>2.626572</td>\n",
       "      <td>4.216023</td>\n",
       "      <td>3.499041</td>\n",
       "      <td>8.242265</td>\n",
       "      <td>1.597329</td>\n",
       "      <td>2.162314</td>\n",
       "      <td>1.636364</td>\n",
       "      <td>0.975436</td>\n",
       "    </tr>\n",
       "    <tr>\n",
       "      <th>2518</th>\n",
       "      <td>4.833145</td>\n",
       "      <td>1.286769</td>\n",
       "      <td>3.621390</td>\n",
       "      <td>3.151657</td>\n",
       "      <td>1.030825</td>\n",
       "      <td>4.909905</td>\n",
       "      <td>1.266822</td>\n",
       "      <td>1.029633</td>\n",
       "      <td>2.832619</td>\n",
       "      <td>4.462605</td>\n",
       "      <td>...</td>\n",
       "      <td>2.098985</td>\n",
       "      <td>2.428951</td>\n",
       "      <td>2.634973</td>\n",
       "      <td>4.229784</td>\n",
       "      <td>3.557692</td>\n",
       "      <td>8.029900</td>\n",
       "      <td>1.596135</td>\n",
       "      <td>2.143874</td>\n",
       "      <td>1.644029</td>\n",
       "      <td>0.964402</td>\n",
       "    </tr>\n",
       "    <tr>\n",
       "      <th>2519</th>\n",
       "      <td>4.840063</td>\n",
       "      <td>1.266530</td>\n",
       "      <td>3.636218</td>\n",
       "      <td>3.179000</td>\n",
       "      <td>1.023674</td>\n",
       "      <td>4.885546</td>\n",
       "      <td>1.254170</td>\n",
       "      <td>1.044962</td>\n",
       "      <td>2.861724</td>\n",
       "      <td>4.407909</td>\n",
       "      <td>...</td>\n",
       "      <td>2.101664</td>\n",
       "      <td>2.434593</td>\n",
       "      <td>2.618262</td>\n",
       "      <td>4.165908</td>\n",
       "      <td>3.533139</td>\n",
       "      <td>8.030030</td>\n",
       "      <td>1.564295</td>\n",
       "      <td>2.147291</td>\n",
       "      <td>1.664851</td>\n",
       "      <td>0.976552</td>\n",
       "    </tr>\n",
       "    <tr>\n",
       "      <th>2520</th>\n",
       "      <td>4.840866</td>\n",
       "      <td>1.294064</td>\n",
       "      <td>3.665791</td>\n",
       "      <td>3.208879</td>\n",
       "      <td>1.021610</td>\n",
       "      <td>4.883627</td>\n",
       "      <td>1.278323</td>\n",
       "      <td>1.051276</td>\n",
       "      <td>2.843193</td>\n",
       "      <td>4.483953</td>\n",
       "      <td>...</td>\n",
       "      <td>2.132812</td>\n",
       "      <td>2.424475</td>\n",
       "      <td>2.654994</td>\n",
       "      <td>4.208292</td>\n",
       "      <td>3.540432</td>\n",
       "      <td>7.869482</td>\n",
       "      <td>1.582949</td>\n",
       "      <td>2.126569</td>\n",
       "      <td>1.631195</td>\n",
       "      <td>0.964555</td>\n",
       "    </tr>\n",
       "  </tbody>\n",
       "</table>\n",
       "<p>2521 rows × 500 columns</p>\n",
       "</div>"
      ],
      "text/plain": [
       "           0         1         2         3         4         5         6    \\\n",
       "0     1.000000  1.000000  1.000000  1.000000  1.000000  1.000000  1.000000   \n",
       "1     0.987497  0.991976  0.982286  1.005152  0.986597  0.998234  0.997248   \n",
       "2     1.007170  0.972037  1.005567  1.001474  0.992429  1.006400  0.989309   \n",
       "3     1.011367  0.985296  0.995060  0.997659  0.975194  1.007762  0.988187   \n",
       "4     1.003209  0.983962  1.000220  0.994383  0.977518  1.001776  0.997592   \n",
       "...        ...       ...       ...       ...       ...       ...       ...   \n",
       "2516  4.761349  1.269094  3.571683  3.158151  1.015223  4.830819  1.253760   \n",
       "2517  4.811508  1.298534  3.616535  3.146019  1.009165  4.829441  1.252787   \n",
       "2518  4.833145  1.286769  3.621390  3.151657  1.030825  4.909905  1.266822   \n",
       "2519  4.840063  1.266530  3.636218  3.179000  1.023674  4.885546  1.254170   \n",
       "2520  4.840866  1.294064  3.665791  3.208879  1.021610  4.883627  1.278323   \n",
       "\n",
       "           7         8         9    ...       490       491       492  \\\n",
       "0     1.000000  1.000000  1.000000  ...  1.000000  1.000000  1.000000   \n",
       "1     0.994540  1.006353  1.014714  ...  1.008231  0.984867  1.005230   \n",
       "2     1.012735  1.017634  1.014102  ...  1.024859  0.986562  0.997344   \n",
       "3     1.006152  1.009244  1.020464  ...  1.021546  0.995828  0.999861   \n",
       "4     1.008283  1.013411  1.022156  ...  1.009756  0.998873  1.010566   \n",
       "...        ...       ...       ...  ...       ...       ...       ...   \n",
       "2516  1.014061  2.809735  4.516351  ...  2.089321  2.404847  2.624049   \n",
       "2517  1.037182  2.839724  4.495386  ...  2.082580  2.420380  2.626572   \n",
       "2518  1.029633  2.832619  4.462605  ...  2.098985  2.428951  2.634973   \n",
       "2519  1.044962  2.861724  4.407909  ...  2.101664  2.434593  2.618262   \n",
       "2520  1.051276  2.843193  4.483953  ...  2.132812  2.424475  2.654994   \n",
       "\n",
       "           493       494       495       496       497       498       499  \n",
       "0     1.000000  1.000000  1.000000  1.000000  1.000000  1.000000  1.000000  \n",
       "1     0.987784  0.994605  0.997575  0.988958  1.004583  1.005497  1.004654  \n",
       "2     0.986559  0.983315  0.997396  0.975796  1.017271  1.007948  1.009745  \n",
       "3     0.985761  0.996591  1.002621  0.965168  1.009794  1.016864  0.997409  \n",
       "4     0.992281  1.009744  0.997047  0.969588  1.021789  1.016440  0.998571  \n",
       "...        ...       ...       ...       ...       ...       ...       ...  \n",
       "2516  4.321493  3.430939  8.035439  1.597480  2.183633  1.617050  0.979589  \n",
       "2517  4.216023  3.499041  8.242265  1.597329  2.162314  1.636364  0.975436  \n",
       "2518  4.229784  3.557692  8.029900  1.596135  2.143874  1.644029  0.964402  \n",
       "2519  4.165908  3.533139  8.030030  1.564295  2.147291  1.664851  0.976552  \n",
       "2520  4.208292  3.540432  7.869482  1.582949  2.126569  1.631195  0.964555  \n",
       "\n",
       "[2521 rows x 500 columns]"
      ]
     },
     "execution_count": 40,
     "metadata": {},
     "output_type": "execute_result"
    }
   ],
   "source": [
    "# Run the Monte Carlo simulation to forecast 10 years cumulative returns\n",
    "mc_stock_bond_short.calc_cumulative_return()\n"
   ]
  },
  {
   "cell_type": "code",
   "execution_count": 41,
   "metadata": {},
   "outputs": [
    {
     "data": {
      "image/png": "[encoded data removed]",
      "text/plain": [
       "<Figure size 432x288 with 1 Axes>"
      ]
     },
     "metadata": {
      "needs_background": "light"
     },
     "output_type": "display_data"
    }
   ],
   "source": [
    "# Visualize the 10-year Monte Carlo simulation by creating an\n",
    "# overlay line plot\n",
    "mc_stock_bond_sim_plot_short = mc_stock_bond_short.plot_simulation()\n"
   ]
  },
  {
   "cell_type": "code",
   "execution_count": 42,
   "metadata": {},
   "outputs": [
    {
     "data": {
      "image/png": "[encoded data removed]",
      "text/plain": [
       "<Figure size 432x288 with 1 Axes>"
      ]
     },
     "metadata": {
      "needs_background": "light"
     },
     "output_type": "display_data"
    }
   ],
   "source": [
    "# Visualize the probability distribution of the 10-year Monte Carlo simulation \n",
    "# by plotting a histogram\n",
    "mc_stock_bond_hist_plot_short = mc_stock_bond_short.plot_distribution()\n"
   ]
  },
  {
   "cell_type": "code",
   "execution_count": 43,
   "metadata": {},
   "outputs": [
    {
     "name": "stdout",
     "output_type": "stream",
     "text": [
      "count           500.000000\n",
      "mean              2.838371\n",
      "std               1.918368\n",
      "min               0.338842\n",
      "25%               1.599375\n",
      "50%               2.348485\n",
      "75%               3.492595\n",
      "max              15.885149\n",
      "95% CI Lower      0.666626\n",
      "95% CI Upper      7.646999\n",
      "Name: 2520, dtype: float64\n"
     ]
    }
   ],
   "source": [
    "# Generate summary statistics from the 10-year Monte Carlo simulation results\n",
    "# Save the results as a variable\n",
    "mc_stock_bond_sim_results_short = mc_stock_bond_short.summarize_cumulative_return()\n",
    "\n",
    "\n",
    "# Review the 10-year Monte Carlo summary statistics\n",
    "print(mc_stock_bond_sim_results_short)"
   ]
  },
  {
   "cell_type": "markdown",
   "metadata": {},
   "source": [
    "### Answer the following questions:"
   ]
  },
  {
   "cell_type": "markdown",
   "metadata": {},
   "source": [
    "#### Question: Using the current value of only the stock and bond portion of the member's portfolio and the summary statistics that you generated from the new Monte Carlo simulation, what are the lower and upper bounds for the expected value of the portfolio (with the new weights) with a 95% confidence interval?"
   ]
  },
  {
   "cell_type": "code",
   "execution_count": 44,
   "metadata": {},
   "outputs": [
    {
     "name": "stdout",
     "output_type": "stream",
     "text": [
      "The current balance of the stock and bond portfolio is: $ 66132.9\n"
     ]
    }
   ],
   "source": [
    "# Print the current balance of the stock and bond portion of the members portfolio\n",
    "print(f\"The current balance of the stock and bond portfolio is: $\", total_stocks_bonds)\n"
   ]
  },
  {
   "cell_type": "code",
   "execution_count": 46,
   "metadata": {},
   "outputs": [
    {
     "name": "stdout",
     "output_type": "stream",
     "text": [
      "With a 80/20 percent split of Stocks/Bonds and an investment of $66132.9,there is a 95% chance of cumulative returns between $44085.91 and $505718.22\n"
     ]
    }
   ],
   "source": [
    "# Use the lower and upper `95%` confidence intervals to calculate the range of the possible outcomes for the current stock/bond portfolio\n",
    "ci_lower_ten_cumulative_return = round(mc_stock_bond_sim_results_short[8]*total_stocks_bonds,2)\n",
    "ci_upper_ten_cumulative_return = round(mc_stock_bond_sim_results_short[9]*total_stocks_bonds,2)\n",
    "\n",
    "# Print the result of your calculations\n",
    "print(f\"With a 80/20 percent split of Stocks/Bonds and an investment of ${total_stocks_bonds},\"\n",
    "      f\"there is a 95% chance of cumulative returns between ${ci_lower_ten_cumulative_return} and ${ci_upper_ten_cumulative_return}\"\n",
    ")\n"
   ]
  },
  {
   "cell_type": "markdown",
   "metadata": {},
   "source": [
    "#### Question: Will weighting the portfolio more heavily to stocks allow the credit union members to retire after only 10 years?"
   ]
  },
  {
   "cell_type": "raw",
   "metadata": {},
   "source": [
    "**Answer** # The Credit Union Member will be able to retire after 10 years. That being said, the 30 year forecast also provides sufficient  levels of cumulative returns to retire on. "
   ]
  },
  {
   "cell_type": "code",
   "execution_count": null,
   "metadata": {},
   "outputs": [],
   "source": []
  }
 ],
 "metadata": {
  "kernelspec": {
   "display_name": "Python 3 (ipykernel)",
   "language": "python",
   "name": "python3"
  },
  "language_info": {
   "codemirror_mode": {
    "name": "ipython",
    "version": 3
   },
   "file_extension": ".py",
   "mimetype": "text/x-python",
   "name": "python",
   "nbconvert_exporter": "python",
   "pygments_lexer": "ipython3",
   "version": "3.7.13"
  }
 },
 "nbformat": 4,
 "nbformat_minor": 4
}
